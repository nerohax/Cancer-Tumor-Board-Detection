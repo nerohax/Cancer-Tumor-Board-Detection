{
 "cells": [
  {
   "cell_type": "markdown",
   "metadata": {
    "id": "C1aKWKl4LFer"
   },
   "source": [
    "# Keyword Detection on Websites\n",
    "\n"
   ]
  },
  {
   "cell_type": "markdown",
   "metadata": {
    "id": "t74wPcuOLaVW"
   },
   "source": [
    "## Assignment\n",
    "Your task is to create an algorithm, that takes html page as input and infers if the page contains the information about cancer tumorboard or not. What is a tumor board? Tumor Board is a consilium of doctors (usually from different disciplines) discussing cancer cases in their departments. If you want to know more please read this article.\n",
    "\n",
    "The expected result is a CSV file for test data with columns [doc_id and prediction].\n",
    "\n",
    "Bonus: if you would like to go the extra mile in this task try to identify tumor board types interdisciplinary, breast, and any third type of tumor board up to you. For these tumor boards please try to identify their schedule: Day (e.g. Friday), frequency (e.g. weekly, bi-weekly, monthly), and time when they start."
   ]
  },
  {
   "cell_type": "markdown",
   "metadata": {
    "id": "8VDsPJHuLert"
   },
   "source": [
    "## Data Description\n",
    "You have train.csv and test.csv files and folder with corresponding .html files.\n",
    "\n",
    "Files:\n",
    "\n",
    "train.csv contains next columns: url, doc_id and label\n",
    "test.csv contains next columns: url and doc_id\n",
    "htmls contains files with names {doc_id}.html\n",
    "keyword2tumor_type.csv contains useful keywords for types of tumorboards\n",
    "Description of tumor board labels:\n",
    "\n",
    "1 (no evidence): tumor boards are not mentioned on the page\n",
    "2 (medium confidence): tumor boards are mentioned, but the page is not completely dedicated to tumor board description\n",
    "3 (high confidence): page is completely dedicated to the description of tumor board types and dates\n",
    "You are asked to prepare a model using htmls, referred to in train.csv, and make predictions for htmls from test.csv"
   ]
  },
  {
   "cell_type": "markdown",
   "metadata": {
    "id": "vYlqDlezLi6C"
   },
   "source": [
    "## Practicalities\n",
    "You should prepare a Jupyter Notebook with the code that you used for making the predictions and the following documentation:\n",
    "\n",
    "How did you decide to handle this amount of data?\n",
    "How did you decide to do feature engineering?\n",
    "How did you decide which models to try (if you decide to train any models)?\n",
    "How did you perform validation of your model?\n",
    "What metrics did you measure?\n",
    "How do you expect your model to perform on test data (in terms of your metrics)?\n",
    "How fast will your algorithm performs and how could you improve its performance if you would have more time?\n",
    "How do you think you would be able to improve your algorithm if you would have more data?\n",
    "What potential issues do you see with your algorithm?"
   ]
  },
  {
   "cell_type": "markdown",
   "metadata": {
    "id": "YNVf9nfELm8h"
   },
   "source": [
    "## Tips\n",
    "to extract clean text from the page you can use BeautifulSoup module like this"
   ]
  },
  {
   "cell_type": "markdown",
   "metadata": {
    "id": "ZzZZ1avgLsxh"
   },
   "source": [
    "from bs import BeautifulSoup\n",
    "\n",
    "content = read_html()\n",
    "\n",
    "soup = BeautifulSoup(content)\n",
    "\n",
    "clean_text = soup.get_text(' ')"
   ]
  },
  {
   "cell_type": "markdown",
   "metadata": {
    "id": "B9WAtI_zL0Xa"
   },
   "source": [
    "\n",
    "## If you decide that you don't need, for example, tags <p> in your document you can do this:##\n"
   ]
  },
  {
   "cell_type": "markdown",
   "metadata": {
    "id": "OQbiQRdYMA57"
   },
   "source": [
    "from bs import BeautifulSoup\n",
    "\n",
    "content = read_html()\n",
    "\n",
    "soup = BeautifulSoup(content)\n",
    "\n",
    "for tag in soup.find_all('p'):\n",
    "    tag.decompose()"
   ]
  },
  {
   "cell_type": "markdown",
   "metadata": {
    "id": "ajUGGOYbNVrl"
   },
   "source": [
    "#### To download the dataset <a href=\"https://drive.google.com/drive/folders/1Qs2fLj9HmAzx2YGKmqkePCa1Acs5JY3Z?usp=sharing\"> Click here </a>"
   ]
  },
  {
   "cell_type": "code",
   "execution_count": 1,
   "metadata": {},
   "outputs": [],
   "source": [
    "import numpy as  np\n",
    "import pandas as pd \n",
    "import matplotlib.pyplot as plt\n",
    "import seaborn as sns \n",
    "import os \n",
    "import re\n",
    "import warnings as w \n",
    "w.filterwarnings('ignore')\n",
    "\n",
    "\n",
    "from bs4 import BeautifulSoup\n",
    "from sklearn.feature_extraction.text import TfidfVectorizer\n",
    "from sklearn.linear_model import LogisticRegression\n",
    "from sklearn.metrics import accuracy_score, confusion_matrix\n",
    "from sklearn.model_selection import train_test_split"
   ]
  },
  {
   "cell_type": "code",
   "execution_count": 2,
   "metadata": {},
   "outputs": [],
   "source": [
    "train_df = pd.read_csv('train.csv')\n",
    "test_df = pd.read_csv('test.csv')\n",
    "keyword_to_tumor_df = pd.read_csv('keyword2tumor_type.csv')\n",
    "html_folder =\"htmls/\"\n",
    "#here files are doc_id.html"
   ]
  },
  {
   "cell_type": "code",
   "execution_count": 3,
   "metadata": {},
   "outputs": [
    {
     "name": "stdout",
     "output_type": "stream",
     "text": [
      "<class 'pandas.core.frame.DataFrame'>\n",
      "RangeIndex: 100 entries, 0 to 99\n",
      "Data columns (total 3 columns):\n",
      " #   Column  Non-Null Count  Dtype \n",
      "---  ------  --------------  ----- \n",
      " 0   url     100 non-null    object\n",
      " 1   doc_id  100 non-null    int64 \n",
      " 2   label   100 non-null    int64 \n",
      "dtypes: int64(2), object(1)\n",
      "memory usage: 2.5+ KB\n"
     ]
    }
   ],
   "source": [
    "train_df.info()"
   ]
  },
  {
   "cell_type": "code",
   "execution_count": 4,
   "metadata": {},
   "outputs": [
    {
     "name": "stdout",
     "output_type": "stream",
     "text": [
      "<class 'pandas.core.frame.DataFrame'>\n",
      "RangeIndex: 48 entries, 0 to 47\n",
      "Data columns (total 2 columns):\n",
      " #   Column  Non-Null Count  Dtype \n",
      "---  ------  --------------  ----- \n",
      " 0   url     48 non-null     object\n",
      " 1   doc_id  48 non-null     int64 \n",
      "dtypes: int64(1), object(1)\n",
      "memory usage: 900.0+ bytes\n"
     ]
    }
   ],
   "source": [
    "test_df.info()"
   ]
  },
  {
   "cell_type": "markdown",
   "metadata": {},
   "source": [
    "No null values"
   ]
  },
  {
   "cell_type": "code",
   "execution_count": 5,
   "metadata": {
    "scrolled": true
   },
   "outputs": [
    {
     "data": {
      "text/html": [
       "<div>\n",
       "<style scoped>\n",
       "    .dataframe tbody tr th:only-of-type {\n",
       "        vertical-align: middle;\n",
       "    }\n",
       "\n",
       "    .dataframe tbody tr th {\n",
       "        vertical-align: top;\n",
       "    }\n",
       "\n",
       "    .dataframe thead th {\n",
       "        text-align: right;\n",
       "    }\n",
       "</style>\n",
       "<table border=\"1\" class=\"dataframe\">\n",
       "  <thead>\n",
       "    <tr style=\"text-align: right;\">\n",
       "      <th></th>\n",
       "      <th>url</th>\n",
       "      <th>doc_id</th>\n",
       "      <th>label</th>\n",
       "    </tr>\n",
       "  </thead>\n",
       "  <tbody>\n",
       "    <tr>\n",
       "      <th>0</th>\n",
       "      <td>http://elbe-elster-klinikum.de/fachbereiche/ch...</td>\n",
       "      <td>1</td>\n",
       "      <td>1</td>\n",
       "    </tr>\n",
       "    <tr>\n",
       "      <th>1</th>\n",
       "      <td>http://klinikum-bayreuth.de/einrichtungen/zent...</td>\n",
       "      <td>3</td>\n",
       "      <td>3</td>\n",
       "    </tr>\n",
       "    <tr>\n",
       "      <th>2</th>\n",
       "      <td>http://klinikum-braunschweig.de/info.php/?id_o...</td>\n",
       "      <td>4</td>\n",
       "      <td>1</td>\n",
       "    </tr>\n",
       "    <tr>\n",
       "      <th>3</th>\n",
       "      <td>http://klinikum-braunschweig.de/info.php/?id_o...</td>\n",
       "      <td>5</td>\n",
       "      <td>1</td>\n",
       "    </tr>\n",
       "    <tr>\n",
       "      <th>4</th>\n",
       "      <td>http://klinikum-braunschweig.de/zuweiser/tumor...</td>\n",
       "      <td>6</td>\n",
       "      <td>3</td>\n",
       "    </tr>\n",
       "  </tbody>\n",
       "</table>\n",
       "</div>"
      ],
      "text/plain": [
       "                                                 url  doc_id  label\n",
       "0  http://elbe-elster-klinikum.de/fachbereiche/ch...       1      1\n",
       "1  http://klinikum-bayreuth.de/einrichtungen/zent...       3      3\n",
       "2  http://klinikum-braunschweig.de/info.php/?id_o...       4      1\n",
       "3  http://klinikum-braunschweig.de/info.php/?id_o...       5      1\n",
       "4  http://klinikum-braunschweig.de/zuweiser/tumor...       6      3"
      ]
     },
     "execution_count": 5,
     "metadata": {},
     "output_type": "execute_result"
    }
   ],
   "source": [
    "train_df.head()"
   ]
  },
  {
   "cell_type": "code",
   "execution_count": 6,
   "metadata": {
    "scrolled": true
   },
   "outputs": [
    {
     "data": {
      "text/html": [
       "<div>\n",
       "<style scoped>\n",
       "    .dataframe tbody tr th:only-of-type {\n",
       "        vertical-align: middle;\n",
       "    }\n",
       "\n",
       "    .dataframe tbody tr th {\n",
       "        vertical-align: top;\n",
       "    }\n",
       "\n",
       "    .dataframe thead th {\n",
       "        text-align: right;\n",
       "    }\n",
       "</style>\n",
       "<table border=\"1\" class=\"dataframe\">\n",
       "  <thead>\n",
       "    <tr style=\"text-align: right;\">\n",
       "      <th></th>\n",
       "      <th>url</th>\n",
       "      <th>doc_id</th>\n",
       "    </tr>\n",
       "  </thead>\n",
       "  <tbody>\n",
       "    <tr>\n",
       "      <th>0</th>\n",
       "      <td>http://chirurgie-goettingen.de/medizinische-ve...</td>\n",
       "      <td>0</td>\n",
       "    </tr>\n",
       "    <tr>\n",
       "      <th>1</th>\n",
       "      <td>http://evkb.de/kliniken-zentren/chirurgie/allg...</td>\n",
       "      <td>2</td>\n",
       "    </tr>\n",
       "    <tr>\n",
       "      <th>2</th>\n",
       "      <td>http://krebszentrum.kreiskliniken-reutlingen.d...</td>\n",
       "      <td>7</td>\n",
       "    </tr>\n",
       "    <tr>\n",
       "      <th>3</th>\n",
       "      <td>http://marienhospital-buer.de/mhb-av-chirurgie...</td>\n",
       "      <td>15</td>\n",
       "    </tr>\n",
       "    <tr>\n",
       "      <th>4</th>\n",
       "      <td>http://marienhospital-buer.de/mhb-av-chirurgie...</td>\n",
       "      <td>16</td>\n",
       "    </tr>\n",
       "  </tbody>\n",
       "</table>\n",
       "</div>"
      ],
      "text/plain": [
       "                                                 url  doc_id\n",
       "0  http://chirurgie-goettingen.de/medizinische-ve...       0\n",
       "1  http://evkb.de/kliniken-zentren/chirurgie/allg...       2\n",
       "2  http://krebszentrum.kreiskliniken-reutlingen.d...       7\n",
       "3  http://marienhospital-buer.de/mhb-av-chirurgie...      15\n",
       "4  http://marienhospital-buer.de/mhb-av-chirurgie...      16"
      ]
     },
     "execution_count": 6,
     "metadata": {},
     "output_type": "execute_result"
    }
   ],
   "source": [
    "test_df.head()"
   ]
  },
  {
   "cell_type": "markdown",
   "metadata": {},
   "source": [
    "Here we have only link and doc_id for files. Actual file are in html folder , where file are named as doc_id.html. We can extract all the text from there."
   ]
  },
  {
   "cell_type": "code",
   "execution_count": 7,
   "metadata": {
    "scrolled": true
   },
   "outputs": [
    {
     "data": {
      "text/html": [
       "<div>\n",
       "<style scoped>\n",
       "    .dataframe tbody tr th:only-of-type {\n",
       "        vertical-align: middle;\n",
       "    }\n",
       "\n",
       "    .dataframe tbody tr th {\n",
       "        vertical-align: top;\n",
       "    }\n",
       "\n",
       "    .dataframe thead th {\n",
       "        text-align: right;\n",
       "    }\n",
       "</style>\n",
       "<table border=\"1\" class=\"dataframe\">\n",
       "  <thead>\n",
       "    <tr style=\"text-align: right;\">\n",
       "      <th></th>\n",
       "      <th>keyword</th>\n",
       "      <th>tumor_type</th>\n",
       "    </tr>\n",
       "  </thead>\n",
       "  <tbody>\n",
       "    <tr>\n",
       "      <th>0</th>\n",
       "      <td>senologische</td>\n",
       "      <td>Brust</td>\n",
       "    </tr>\n",
       "    <tr>\n",
       "      <th>1</th>\n",
       "      <td>brustzentrum</td>\n",
       "      <td>Brust</td>\n",
       "    </tr>\n",
       "    <tr>\n",
       "      <th>2</th>\n",
       "      <td>breast</td>\n",
       "      <td>Brust</td>\n",
       "    </tr>\n",
       "    <tr>\n",
       "      <th>3</th>\n",
       "      <td>thorax</td>\n",
       "      <td>Brust</td>\n",
       "    </tr>\n",
       "    <tr>\n",
       "      <th>4</th>\n",
       "      <td>thorakale</td>\n",
       "      <td>Brust</td>\n",
       "    </tr>\n",
       "  </tbody>\n",
       "</table>\n",
       "</div>"
      ],
      "text/plain": [
       "        keyword tumor_type\n",
       "0  senologische      Brust\n",
       "1  brustzentrum      Brust\n",
       "2        breast      Brust\n",
       "3        thorax      Brust\n",
       "4     thorakale      Brust"
      ]
     },
     "execution_count": 7,
     "metadata": {},
     "output_type": "execute_result"
    }
   ],
   "source": [
    "keyword_to_tumor_df.head()"
   ]
  },
  {
   "cell_type": "code",
   "execution_count": 8,
   "metadata": {},
   "outputs": [],
   "source": [
    "#func to extract text from html file\n",
    "def html_to_text(doc_id):\n",
    "    file_path = os.path.join(html_folder, f'{doc_id}.html')\n",
    "    if not os.path.exists(file_path):\n",
    "        print('File not found')\n",
    "        return \"\"\n",
    "\n",
    "    with open(file_path,'r', encoding='latin-1') as f:\n",
    "            content = f.read()\n",
    "            # using utf-8 encoding we got error cause text is in latin which contains \n",
    "            # non ASCII characters\n",
    "        \n",
    "    soup = BeautifulSoup(content,'html.parser') \n",
    "    clean_text = soup.get_text(' ') #spaces between elements\n",
    "    return clean_text.strip()"
   ]
  },
  {
   "cell_type": "code",
   "execution_count": 9,
   "metadata": {},
   "outputs": [],
   "source": [
    "# extracting text for train and test data \n",
    "train_df['text'] = train_df['doc_id'].apply(html_to_text)\n",
    "test_df['text']=test_df['doc_id'].apply(html_to_text)"
   ]
  },
  {
   "cell_type": "code",
   "execution_count": 10,
   "metadata": {},
   "outputs": [
    {
     "data": {
      "text/plain": [
       "0    Elbe-Elster Klinikum - Chirurgie Finsterwalde ...\n",
       "1    Onkologisches Zentrum - Klinikum Bayreuth \\n \\...\n",
       "2    Zentrum - SozialpÃ¤diatrisches Zentrum - StÃ¤d...\n",
       "3    Leistung - Spezielle UnterstÃ¼tzung bei der An...\n",
       "4    Zuweiser - Tumorkonferenzen - Tumorkonferenz G...\n",
       "5    Krebszentrum Reutlingen: Impressum - Kreisklin...\n",
       "6    Ãsthetische Brustchirurgie - krebszentrum.kre...\n",
       "7    Presse und Auszeichnungen - krebszentrum.kreis...\n",
       "8    Hautkrebs - krebszentrum.kreiskliniken-reutlin...\n",
       "9    Magenkrebs - krebszentrum.kreiskliniken-reutli...\n",
       "Name: text, dtype: object"
      ]
     },
     "execution_count": 10,
     "metadata": {},
     "output_type": "execute_result"
    }
   ],
   "source": [
    "train_df['text'].head(10)"
   ]
  },
  {
   "cell_type": "code",
   "execution_count": 11,
   "metadata": {},
   "outputs": [],
   "source": [
    "#remove special characters and extra space\n",
    "def filter_text(text):\n",
    "    text=text.lower()\n",
    "    text = re.sub(r'\\s+',' ', text)\n",
    "    text = re.sub(r'[^\\w\\s]','', text)\n",
    "    return text"
   ]
  },
  {
   "cell_type": "code",
   "execution_count": 12,
   "metadata": {},
   "outputs": [],
   "source": [
    "train_df['filter_text'] = train_df['text'].apply(filter_text)\n",
    "test_df['filter_text'] = test_df['text'].apply(filter_text)"
   ]
  },
  {
   "cell_type": "code",
   "execution_count": 13,
   "metadata": {},
   "outputs": [],
   "source": [
    "train_df.drop(columns=['url'], inplace=True)\n",
    "test_df.drop(columns='url', inplace=True)"
   ]
  },
  {
   "cell_type": "code",
   "execution_count": 14,
   "metadata": {
    "scrolled": true
   },
   "outputs": [
    {
     "data": {
      "text/plain": [
       "'bauchspeicheldrã¼se  klinik fã¼r allgemein viszeral und kinderchirurgie gãttingen klinik fã¼r allgemein viszeral und kinderchirurgie zur hauptnavigation springen zum inhalt wechseln aktuelles und kontakt kontakt logo der universtãtsmedizin gãttingen navigation ãffnen oder schliessen hauptnavigation subnavigation ãffnen oder schliessen medizinische versorgung poliklinik sonographie schilddrã¼se speiserãhre und magen darm bauchspeicheldrã¼se ced leber und galle hernien koloproktologie adipositaschirurgie kinderchirurgie sarkomchirurgie hipec roboterchirurgie interdisziplinãre zentren subnavigation ãffnen oder schliessen forschung klinische studien tumorepigenetik ag conradi ag gaedcke ag grade ag krause ag sperling ag sprenger ag wegwitz promotion publikationen subnavigation ãffnen oder schliessen lehre module blockpraktikum famulaturenpj subnavigation ãffnen oder schliessen ãber uns mitarbeiter stationen stationãre aufnahme geschichte der klinik navigationspfad medizinische versorgung bauchspeicheldrã¼se pankreaschirurgie die operative therapie der bauchspeicheldrã¼se beziehungsweise ihrer verãnderungen ist ein besonderer schwerpunkt unserer klinik hierfã¼r wurden wir von der deutschen gesellschaft fã¼r allgemein und viszeralchirurgie dgav als kompetenzzentrum zertifiziert das bedeutet dass sãmtliche diagnosen und verlãufe unserer patienten erfasst und regelmããig kritisch evaluiert werden wir arbeiten in einem interdisziplinãren team bestehend aus gastroenterologen radiologen pathologen anãsthesisten oder auch radioonkologen zusammen die therapie vor beziehungsweise nach entfernung des tumors legen wir im rahmen des interdisziplinãren tumorboards des gãttinger cccs fest lesen sie hier welche erkrankungen es gibt und wie wir sie versorgen abbildung der regulãren anatomie der bauchspeicheldrã¼se der kopf wird von zwãlffingerdarm eingebettet zu unserem spektrum gehãren vor allem neubildungen der bauchspeicheldrã¼se oder des gallengangs der durch das organ lãuft und sich hãufig die mã¼ndung in den zwãlffingerdarm mit dem ausfã¼hrungsgang der bauchspeicheldrã¼se teilt anatomisch unterteilt man die bauchspeicheldrã¼se in kopf kãrper und schwanz die meisten verãnderungen sind bãsartige tumoren des bauchspeicheldrã¼senkopfes â sie treten entweder als zufallsbefund auf im rahmen einer gelbsucht ikterus oder durch abklãrung von rã¼ckenschmerzen beziehungsweise diffusen beschwerden im bereich des bauches sofern die tumoren auf das organ beschrãnkt sind â also keine lungen oder lebermetastasen vorliegen beziehungsweise das bauchfell nicht befallen ist â kãnnen wir den bauchspeicheldrã¼senkopf operativ entfernen dabei entfernen wir den zwãlffingerdarm den unteren anteil des gallengangs und die lokalen lymphknoten mit ist der tumor bereits in die angrenzende groãe vene die pfortader eingebrochen die das blut aus dem darm zur leber transportiert kãnnen wir diese in der regel auch teilweise mitentfernen auch wenn die arterie beteiligt ist kann in je nach fall eine operation sinnvoll sein es gibt fãlle in denen es nicht mãglich ist den tumor operativ zu entfernen dann kãnnen wir nachdem wir fernmetastasen ausgeschlossen haben im rahmen klinischer studien conko007 zunãchst eine chemotherapie undoder eine bestrahlung durchfã¼hren auch auf diese weise ist es mãglich den tumor zu entfernen in diesen schwierigen situationen ist unser team besonders erfahren ihre ansprechpartner univprof dr michael ghadimi direktor email diese emailadresse ist vor spambots geschã¼tzt zur anzeige muss javascript eingeschaltet sein univprof dr jochen gaedcke leitender oberarzt email diese emailadresse ist vor spambots geschã¼tzt zur anzeige muss javascript eingeschaltet sein pankreassprechstunde nach vereinbarung hauptgebãude ubft ebene 3fahrstuhl b2 leitstelle b2 terminvereinbarung unter 05513966148 drucken informationen zu unseren internetangeboten sitemap klinik fã¼r allgemein viszeral und kinderchirurgie medizinische versorgung poliklinik sonographie schilddrã¼se speiserãhre und magen darm bauchspeicheldrã¼se ced leber und galle hernien koloproktologie adipositaschirurgie kinderchirurgie sarkomchirurgie hipec roboterchirurgie interdisziplinãre zentren forschung klinische studien tumorepigenetik ag conradi ag gaedcke ag grade ag krause ag sperling ag sprenger ag wegwitz promotion publikationen lehre module blockpraktikum famulaturenpj ãber uns mitarbeiter stationen stationãre aufnahme geschichte der klinik informationen zu dieser website sitemap datenschutz impressum copyright  2019 klinik fã¼r allgemein viszeral und kinderchirurgie'"
      ]
     },
     "execution_count": 14,
     "metadata": {},
     "output_type": "execute_result"
    }
   ],
   "source": [
    "test_df['filter_text'].head(1).values[0]"
   ]
  },
  {
   "cell_type": "code",
   "execution_count": 15,
   "metadata": {},
   "outputs": [
    {
     "data": {
      "text/html": [
       "<div>\n",
       "<style scoped>\n",
       "    .dataframe tbody tr th:only-of-type {\n",
       "        vertical-align: middle;\n",
       "    }\n",
       "\n",
       "    .dataframe tbody tr th {\n",
       "        vertical-align: top;\n",
       "    }\n",
       "\n",
       "    .dataframe thead th {\n",
       "        text-align: right;\n",
       "    }\n",
       "</style>\n",
       "<table border=\"1\" class=\"dataframe\">\n",
       "  <thead>\n",
       "    <tr style=\"text-align: right;\">\n",
       "      <th></th>\n",
       "      <th>doc_id</th>\n",
       "      <th>label</th>\n",
       "      <th>text</th>\n",
       "      <th>filter_text</th>\n",
       "    </tr>\n",
       "  </thead>\n",
       "  <tbody>\n",
       "    <tr>\n",
       "      <th>0</th>\n",
       "      <td>1</td>\n",
       "      <td>1</td>\n",
       "      <td>Elbe-Elster Klinikum - Chirurgie Finsterwalde ...</td>\n",
       "      <td>elbeelster klinikum  chirurgie finsterwalde su...</td>\n",
       "    </tr>\n",
       "    <tr>\n",
       "      <th>1</th>\n",
       "      <td>3</td>\n",
       "      <td>3</td>\n",
       "      <td>Onkologisches Zentrum - Klinikum Bayreuth \\n \\...</td>\n",
       "      <td>onkologisches zentrum  klinikum bayreuth aktue...</td>\n",
       "    </tr>\n",
       "    <tr>\n",
       "      <th>2</th>\n",
       "      <td>4</td>\n",
       "      <td>1</td>\n",
       "      <td>Zentrum - SozialpÃ¤diatrisches Zentrum - StÃ¤d...</td>\n",
       "      <td>zentrum  sozialpãdiatrisches zentrum  stãdtisc...</td>\n",
       "    </tr>\n",
       "    <tr>\n",
       "      <th>3</th>\n",
       "      <td>5</td>\n",
       "      <td>1</td>\n",
       "      <td>Leistung - Spezielle UnterstÃ¼tzung bei der An...</td>\n",
       "      <td>leistung  spezielle unterstã¼tzung bei der anm...</td>\n",
       "    </tr>\n",
       "    <tr>\n",
       "      <th>4</th>\n",
       "      <td>6</td>\n",
       "      <td>3</td>\n",
       "      <td>Zuweiser - Tumorkonferenzen - Tumorkonferenz G...</td>\n",
       "      <td>zuweiser  tumorkonferenzen  tumorkonferenz gas...</td>\n",
       "    </tr>\n",
       "  </tbody>\n",
       "</table>\n",
       "</div>"
      ],
      "text/plain": [
       "   doc_id  label                                               text  \\\n",
       "0       1      1  Elbe-Elster Klinikum - Chirurgie Finsterwalde ...   \n",
       "1       3      3  Onkologisches Zentrum - Klinikum Bayreuth \\n \\...   \n",
       "2       4      1  Zentrum - SozialpÃ¤diatrisches Zentrum - StÃ¤d...   \n",
       "3       5      1  Leistung - Spezielle UnterstÃ¼tzung bei der An...   \n",
       "4       6      3  Zuweiser - Tumorkonferenzen - Tumorkonferenz G...   \n",
       "\n",
       "                                         filter_text  \n",
       "0  elbeelster klinikum  chirurgie finsterwalde su...  \n",
       "1  onkologisches zentrum  klinikum bayreuth aktue...  \n",
       "2  zentrum  sozialpãdiatrisches zentrum  stãdtisc...  \n",
       "3  leistung  spezielle unterstã¼tzung bei der anm...  \n",
       "4  zuweiser  tumorkonferenzen  tumorkonferenz gas...  "
      ]
     },
     "execution_count": 15,
     "metadata": {},
     "output_type": "execute_result"
    }
   ],
   "source": [
    "train_df.head()"
   ]
  },
  {
   "cell_type": "code",
   "execution_count": 16,
   "metadata": {},
   "outputs": [],
   "source": [
    "# extracting keywords - as the language is latin it will be difficult to understand. As we have been given a set of \n",
    "# keywords. We will see if any of those keywords is present in text as classify it accordingly"
   ]
  },
  {
   "cell_type": "code",
   "execution_count": 17,
   "metadata": {},
   "outputs": [],
   "source": [
    "keyword_to_tumor_dict = dict(zip(keyword_to_tumor_df['keyword'],keyword_to_tumor_df['tumor_type']))\n",
    "\n",
    "def extract_keywords(text):\n",
    "    matched_keywords =[]\n",
    "    for keyword in keyword_to_tumor_dict:\n",
    "        if keyword in text:\n",
    "            matched_keywords.append(keyword_to_tumor_dict[keyword])\n",
    "    return \" \".join(matched_keywords)\n"
   ]
  },
  {
   "cell_type": "code",
   "execution_count": 18,
   "metadata": {},
   "outputs": [],
   "source": [
    "train_df['keywords'] = train_df['filter_text'].apply(extract_keywords)\n",
    "test_df['keywords'] = test_df['filter_text'].apply(extract_keywords)"
   ]
  },
  {
   "cell_type": "code",
   "execution_count": 19,
   "metadata": {},
   "outputs": [
    {
     "data": {
      "text/html": [
       "<div>\n",
       "<style scoped>\n",
       "    .dataframe tbody tr th:only-of-type {\n",
       "        vertical-align: middle;\n",
       "    }\n",
       "\n",
       "    .dataframe tbody tr th {\n",
       "        vertical-align: top;\n",
       "    }\n",
       "\n",
       "    .dataframe thead th {\n",
       "        text-align: right;\n",
       "    }\n",
       "</style>\n",
       "<table border=\"1\" class=\"dataframe\">\n",
       "  <thead>\n",
       "    <tr style=\"text-align: right;\">\n",
       "      <th></th>\n",
       "      <th>doc_id</th>\n",
       "      <th>label</th>\n",
       "      <th>text</th>\n",
       "      <th>filter_text</th>\n",
       "      <th>keywords</th>\n",
       "    </tr>\n",
       "  </thead>\n",
       "  <tbody>\n",
       "    <tr>\n",
       "      <th>0</th>\n",
       "      <td>1</td>\n",
       "      <td>1</td>\n",
       "      <td>Elbe-Elster Klinikum - Chirurgie Finsterwalde ...</td>\n",
       "      <td>elbeelster klinikum  chirurgie finsterwalde su...</td>\n",
       "      <td>Brust Brust Darm Mamma carcinoma Mamma carcino...</td>\n",
       "    </tr>\n",
       "    <tr>\n",
       "      <th>1</th>\n",
       "      <td>3</td>\n",
       "      <td>3</td>\n",
       "      <td>Onkologisches Zentrum - Klinikum Bayreuth \\n \\...</td>\n",
       "      <td>onkologisches zentrum  klinikum bayreuth aktue...</td>\n",
       "      <td>Brust Brust Darm Darm Darm Haut Haut Kopf-hals...</td>\n",
       "    </tr>\n",
       "    <tr>\n",
       "      <th>2</th>\n",
       "      <td>4</td>\n",
       "      <td>1</td>\n",
       "      <td>Zentrum - SozialpÃ¤diatrisches Zentrum - StÃ¤d...</td>\n",
       "      <td>zentrum  sozialpãdiatrisches zentrum  stãdtisc...</td>\n",
       "      <td>Urologische Schwerpunkt</td>\n",
       "    </tr>\n",
       "    <tr>\n",
       "      <th>3</th>\n",
       "      <td>5</td>\n",
       "      <td>1</td>\n",
       "      <td>Leistung - Spezielle UnterstÃ¼tzung bei der An...</td>\n",
       "      <td>leistung  spezielle unterstã¼tzung bei der anm...</td>\n",
       "      <td></td>\n",
       "    </tr>\n",
       "    <tr>\n",
       "      <th>4</th>\n",
       "      <td>6</td>\n",
       "      <td>3</td>\n",
       "      <td>Zuweiser - Tumorkonferenzen - Tumorkonferenz G...</td>\n",
       "      <td>zuweiser  tumorkonferenzen  tumorkonferenz gas...</td>\n",
       "      <td>Darm Magen Magen</td>\n",
       "    </tr>\n",
       "    <tr>\n",
       "      <th>...</th>\n",
       "      <td>...</td>\n",
       "      <td>...</td>\n",
       "      <td>...</td>\n",
       "      <td>...</td>\n",
       "      <td>...</td>\n",
       "    </tr>\n",
       "    <tr>\n",
       "      <th>95</th>\n",
       "      <td>140</td>\n",
       "      <td>1</td>\n",
       "      <td>uniFM | uniCROSS \\n \\n \\n \\n \\n \\n \\n \\n \\n \\n...</td>\n",
       "      <td>unifm  unicross news and magazine theme home w...</td>\n",
       "      <td>Endokrine malignome Gallenblasen/gallengangkre...</td>\n",
       "    </tr>\n",
       "    <tr>\n",
       "      <th>96</th>\n",
       "      <td>141</td>\n",
       "      <td>1</td>\n",
       "      <td>InterdisziplinÃ¤re NeurovaskulÃ¤re Konferenz ǀ...</td>\n",
       "      <td>interdisziplinãre neurovaskulãre konferenz ǀ u...</td>\n",
       "      <td>Brust Endokrine malignome Gallenblasen/galleng...</td>\n",
       "    </tr>\n",
       "    <tr>\n",
       "      <th>97</th>\n",
       "      <td>144</td>\n",
       "      <td>2</td>\n",
       "      <td>FÃ¼r Ãrzte | Vivantes   \\n \\n \\n \\n \\n \\n \\n ...</td>\n",
       "      <td>fã¼r ãrzte  vivantes javascript scheint in ihr...</td>\n",
       "      <td>Haut Haut Kopf-hals Lunge Lunge Magen Magen Ur...</td>\n",
       "    </tr>\n",
       "    <tr>\n",
       "      <th>98</th>\n",
       "      <td>145</td>\n",
       "      <td>2</td>\n",
       "      <td>Innere Medizin â HÃ¤matologie, Onkologie und...</td>\n",
       "      <td>innere medizin â hãmatologie onkologie und pal...</td>\n",
       "      <td>Haut Haut Kopf-hals Lunge Lunge Magen Magen Ur...</td>\n",
       "    </tr>\n",
       "    <tr>\n",
       "      <th>99</th>\n",
       "      <td>146</td>\n",
       "      <td>1</td>\n",
       "      <td>Versorgung von Krebspatienten stÃ¤rken | St. W...</td>\n",
       "      <td>versorgung von krebspatienten stãrken  st walb...</td>\n",
       "      <td>Darm Magen Interdisziplinär</td>\n",
       "    </tr>\n",
       "  </tbody>\n",
       "</table>\n",
       "<p>100 rows × 5 columns</p>\n",
       "</div>"
      ],
      "text/plain": [
       "    doc_id  label                                               text  \\\n",
       "0        1      1  Elbe-Elster Klinikum - Chirurgie Finsterwalde ...   \n",
       "1        3      3  Onkologisches Zentrum - Klinikum Bayreuth \\n \\...   \n",
       "2        4      1  Zentrum - SozialpÃ¤diatrisches Zentrum - StÃ¤d...   \n",
       "3        5      1  Leistung - Spezielle UnterstÃ¼tzung bei der An...   \n",
       "4        6      3  Zuweiser - Tumorkonferenzen - Tumorkonferenz G...   \n",
       "..     ...    ...                                                ...   \n",
       "95     140      1  uniFM | uniCROSS \\n \\n \\n \\n \\n \\n \\n \\n \\n \\n...   \n",
       "96     141      1  InterdisziplinÃ¤re NeurovaskulÃ¤re Konferenz ǀ...   \n",
       "97     144      2  FÃ¼r Ãrzte | Vivantes   \\n \\n \\n \\n \\n \\n \\n ...   \n",
       "98     145      2  Innere Medizin â HÃ¤matologie, Onkologie und...   \n",
       "99     146      1  Versorgung von Krebspatienten stÃ¤rken | St. W...   \n",
       "\n",
       "                                          filter_text  \\\n",
       "0   elbeelster klinikum  chirurgie finsterwalde su...   \n",
       "1   onkologisches zentrum  klinikum bayreuth aktue...   \n",
       "2   zentrum  sozialpãdiatrisches zentrum  stãdtisc...   \n",
       "3   leistung  spezielle unterstã¼tzung bei der anm...   \n",
       "4   zuweiser  tumorkonferenzen  tumorkonferenz gas...   \n",
       "..                                                ...   \n",
       "95  unifm  unicross news and magazine theme home w...   \n",
       "96  interdisziplinãre neurovaskulãre konferenz ǀ u...   \n",
       "97  fã¼r ãrzte  vivantes javascript scheint in ihr...   \n",
       "98  innere medizin â hãmatologie onkologie und pal...   \n",
       "99  versorgung von krebspatienten stãrken  st walb...   \n",
       "\n",
       "                                             keywords  \n",
       "0   Brust Brust Darm Mamma carcinoma Mamma carcino...  \n",
       "1   Brust Brust Darm Darm Darm Haut Haut Kopf-hals...  \n",
       "2                             Urologische Schwerpunkt  \n",
       "3                                                      \n",
       "4                                    Darm Magen Magen  \n",
       "..                                                ...  \n",
       "95  Endokrine malignome Gallenblasen/gallengangkre...  \n",
       "96  Brust Endokrine malignome Gallenblasen/galleng...  \n",
       "97  Haut Haut Kopf-hals Lunge Lunge Magen Magen Ur...  \n",
       "98  Haut Haut Kopf-hals Lunge Lunge Magen Magen Ur...  \n",
       "99                        Darm Magen Interdisziplinär  \n",
       "\n",
       "[100 rows x 5 columns]"
      ]
     },
     "execution_count": 19,
     "metadata": {},
     "output_type": "execute_result"
    }
   ],
   "source": [
    "train_df"
   ]
  },
  {
   "cell_type": "code",
   "execution_count": null,
   "metadata": {},
   "outputs": [],
   "source": []
  },
  {
   "cell_type": "code",
   "execution_count": 20,
   "metadata": {},
   "outputs": [],
   "source": [
    "tfidf = TfidfVectorizer(max_features=5000)\n",
    "X_tfidf = tfidf.fit_transform(train_df['filter_text'].fillna(''))  # Handle NaN values\n",
    "\n",
    "# Target variable\n",
    "y = train_df['label']\n",
    "\n",
    "# Split data\n",
    "X_train, X_test, y_train, y_test = train_test_split(X_tfidf, y, test_size=0.2, random_state=42)\n"
   ]
  },
  {
   "cell_type": "code",
   "execution_count": 21,
   "metadata": {},
   "outputs": [
    {
     "data": {
      "text/plain": [
       "0.45"
      ]
     },
     "execution_count": 21,
     "metadata": {},
     "output_type": "execute_result"
    }
   ],
   "source": [
    "model = LogisticRegression(max_iter=1000)\n",
    "model.fit(X_train, y_train)\n",
    "y_pred = model.predict(X_test)\n",
    "\n",
    "acc = accuracy_score(y_test, y_pred)\n",
    "acc"
   ]
  },
  {
   "cell_type": "code",
   "execution_count": 22,
   "metadata": {},
   "outputs": [
    {
     "name": "stdout",
     "output_type": "stream",
     "text": [
      "Logistic Regression Accuracy: 0.4500\n",
      "Random Forest Accuracy: 0.4500\n",
      "Naive Bayes Accuracy: 0.4500\n",
      "SVM Accuracy: 0.4000\n"
     ]
    }
   ],
   "source": [
    "from sklearn.ensemble import RandomForestClassifier\n",
    "from sklearn.naive_bayes import MultinomialNB\n",
    "from sklearn.svm import SVC\n",
    "models = {\n",
    "    \"Logistic Regression\": LogisticRegression(max_iter=1000),\n",
    "    \"Random Forest\": RandomForestClassifier(n_estimators=100, random_state=42),\n",
    "    \"Naive Bayes\": MultinomialNB(),\n",
    "    \"SVM\": SVC(kernel='linear', random_state=42)\n",
    "}\n",
    "\n",
    "# train and evaluate each model\n",
    "for name, model in models.items():\n",
    "    model.fit(X_train, y_train)  # Train the model\n",
    "    y_pred = model.predict(X_test)  # Make predictions\n",
    "    acc = accuracy_score(y_test, y_pred)  # Calculate accuracy\n",
    "    print(f\"{name} Accuracy: {acc:.4f}\") "
   ]
  },
  {
   "cell_type": "code",
   "execution_count": null,
   "metadata": {},
   "outputs": [],
   "source": []
  }
 ],
 "metadata": {
  "colab": {
   "provenance": []
  },
  "kernelspec": {
   "display_name": "Python 3 (ipykernel)",
   "language": "python",
   "name": "python3"
  },
  "language_info": {
   "codemirror_mode": {
    "name": "ipython",
    "version": 3
   },
   "file_extension": ".py",
   "mimetype": "text/x-python",
   "name": "python",
   "nbconvert_exporter": "python",
   "pygments_lexer": "ipython3",
   "version": "3.11.4"
  }
 },
 "nbformat": 4,
 "nbformat_minor": 1
}
