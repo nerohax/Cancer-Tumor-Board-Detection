{
 "cells": [
  {
   "cell_type": "code",
   "execution_count": 1,
   "id": "f7e47706",
   "metadata": {},
   "outputs": [],
   "source": [
    "import numpy as np \n",
    "import pandas as pd\n",
    "import matplotlib.pyplot as plt\n",
    "import seaborn as sns\n",
    "import warnings as w\n",
    "w.filterwarnings('ignore')"
   ]
  },
  {
   "cell_type": "code",
   "execution_count": 2,
   "id": "88e2f42c",
   "metadata": {},
   "outputs": [],
   "source": [
    "train_df = pd.read_csv('train.csv')\n",
    "test_df = pd.read_csv('test.csv')\n",
    "keywords_to_tumor_df = pd.read_csv('keyword2tumor_type.csv')"
   ]
  },
  {
   "cell_type": "code",
   "execution_count": 3,
   "id": "4427ed5b",
   "metadata": {},
   "outputs": [
    {
     "data": {
      "text/html": [
       "<div>\n",
       "<style scoped>\n",
       "    .dataframe tbody tr th:only-of-type {\n",
       "        vertical-align: middle;\n",
       "    }\n",
       "\n",
       "    .dataframe tbody tr th {\n",
       "        vertical-align: top;\n",
       "    }\n",
       "\n",
       "    .dataframe thead th {\n",
       "        text-align: right;\n",
       "    }\n",
       "</style>\n",
       "<table border=\"1\" class=\"dataframe\">\n",
       "  <thead>\n",
       "    <tr style=\"text-align: right;\">\n",
       "      <th></th>\n",
       "      <th>url</th>\n",
       "      <th>doc_id</th>\n",
       "      <th>label</th>\n",
       "    </tr>\n",
       "  </thead>\n",
       "  <tbody>\n",
       "    <tr>\n",
       "      <th>0</th>\n",
       "      <td>http://elbe-elster-klinikum.de/fachbereiche/ch...</td>\n",
       "      <td>1</td>\n",
       "      <td>1</td>\n",
       "    </tr>\n",
       "    <tr>\n",
       "      <th>1</th>\n",
       "      <td>http://klinikum-bayreuth.de/einrichtungen/zent...</td>\n",
       "      <td>3</td>\n",
       "      <td>3</td>\n",
       "    </tr>\n",
       "    <tr>\n",
       "      <th>2</th>\n",
       "      <td>http://klinikum-braunschweig.de/info.php/?id_o...</td>\n",
       "      <td>4</td>\n",
       "      <td>1</td>\n",
       "    </tr>\n",
       "    <tr>\n",
       "      <th>3</th>\n",
       "      <td>http://klinikum-braunschweig.de/info.php/?id_o...</td>\n",
       "      <td>5</td>\n",
       "      <td>1</td>\n",
       "    </tr>\n",
       "    <tr>\n",
       "      <th>4</th>\n",
       "      <td>http://klinikum-braunschweig.de/zuweiser/tumor...</td>\n",
       "      <td>6</td>\n",
       "      <td>3</td>\n",
       "    </tr>\n",
       "  </tbody>\n",
       "</table>\n",
       "</div>"
      ],
      "text/plain": [
       "                                                 url  doc_id  label\n",
       "0  http://elbe-elster-klinikum.de/fachbereiche/ch...       1      1\n",
       "1  http://klinikum-bayreuth.de/einrichtungen/zent...       3      3\n",
       "2  http://klinikum-braunschweig.de/info.php/?id_o...       4      1\n",
       "3  http://klinikum-braunschweig.de/info.php/?id_o...       5      1\n",
       "4  http://klinikum-braunschweig.de/zuweiser/tumor...       6      3"
      ]
     },
     "execution_count": 3,
     "metadata": {},
     "output_type": "execute_result"
    }
   ],
   "source": [
    "train_df.head()"
   ]
  },
  {
   "cell_type": "code",
   "execution_count": 4,
   "id": "a90c6cdc",
   "metadata": {},
   "outputs": [],
   "source": [
    "train_df.drop(columns='url',inplace=True)"
   ]
  },
  {
   "cell_type": "code",
   "execution_count": 5,
   "id": "8c3ab03e",
   "metadata": {},
   "outputs": [
    {
     "name": "stdout",
     "output_type": "stream",
     "text": [
      "<class 'pandas.core.frame.DataFrame'>\n",
      "RangeIndex: 100 entries, 0 to 99\n",
      "Data columns (total 2 columns):\n",
      " #   Column  Non-Null Count  Dtype\n",
      "---  ------  --------------  -----\n",
      " 0   doc_id  100 non-null    int64\n",
      " 1   label   100 non-null    int64\n",
      "dtypes: int64(2)\n",
      "memory usage: 1.7 KB\n"
     ]
    }
   ],
   "source": [
    "train_df.info()"
   ]
  },
  {
   "cell_type": "markdown",
   "id": "74ee3977",
   "metadata": {},
   "source": [
    "no null values"
   ]
  },
  {
   "cell_type": "markdown",
   "id": "687beceb",
   "metadata": {},
   "source": [
    "### DATA PREPROCESSING"
   ]
  },
  {
   "cell_type": "code",
   "execution_count": 6,
   "id": "fb4b2d66",
   "metadata": {},
   "outputs": [],
   "source": [
    "# extract test from html files \n",
    "import os \n",
    "from bs4 import BeautifulSoup\n",
    "html_path = \"htmls/\"\n",
    "\n",
    "def html_to_text(doc_id):\n",
    "    file_path = os.path.join(html_path, f'{doc_id}.html')\n",
    "    if not os.path.exists(file_path):\n",
    "        print('File not found')\n",
    "        return \"\"\n",
    "    \n",
    "    with open(file_path,'r', encoding='latin-1') as f:\n",
    "        content = f.read()\n",
    "    \n",
    "    soup = BeautifulSoup(content)\n",
    "    clean_text = soup.get_text(' ')\n",
    "    return clean_text.strip()\n",
    "\n"
   ]
  },
  {
   "cell_type": "code",
   "execution_count": 7,
   "id": "e976b920",
   "metadata": {},
   "outputs": [],
   "source": [
    "train_df['text'] = train_df['doc_id'].apply(html_to_text)\n",
    "test_df['text'] = test_df['doc_id'].apply(html_to_text)"
   ]
  },
  {
   "cell_type": "code",
   "execution_count": 8,
   "id": "10aa3690",
   "metadata": {
    "scrolled": true
   },
   "outputs": [
    {
     "data": {
      "text/plain": [
       "'Elbe-Elster Klinikum - Chirurgie Finsterwalde \\n \\n \\n \\n \\n \\n \\n \\n \\n \\n \\n \\n \\n \\n \\n \\n \\n \\n \\n \\n \\n \\n \\n \\n \\n \\n \\n \\n \\n \\n \\n \\n \\n \\n \\n \\n \\n \\n \\n \\n \\n \\n \\n \\n \\n \\n \\n \\n \\n \\n \\n \\n \\n   \\n \\n \\n   \\n \\n Suchen ...     \\n \\n \\n \\n \\n \\n \\n \\n \\n \\n \\n \\n \\n \\n \\n \\n \\n \\n \\n \\n \\n \\n \\n   \\n Elbe-Elster Klinikum   \\n \\n   \\n Leitbild   \\n \\n   \\n Klinikleitung   \\n \\n \\n QualitÃ¤tsmanagement   \\n \\n   \\n QualitÃ¤tsberichte   \\n \\n \\n Krankenhaushygiene   \\n \\n \\n Beauftragte des Klinikums   \\n \\n \\n Karriere / Ausbildung   \\n \\n   \\n Stellenangebote   \\n \\n \\n Ausbildung und Praktikum   \\n \\n \\n Facharztausbildung   \\n \\n   \\n Klinikum im Cartoon   \\n \\n \\n Akademisches Lehrkrankenhaus MHB   \\n \\n \\n Elbe-Elster MVZ GmbH   \\n \\n   \\n Standorte   \\n \\n   \\n Elsterwerda   \\n \\n   \\n Finsterwalde   \\n \\n   \\n Herzberg   \\n \\n   \\n Fachbereiche   \\n \\n \\n AnÃ¤sthesie und Intensivmedizin   \\n \\n \\n AnÃ¤sthesie und Intensivmedizin Elsterwerda   \\n \\n \\n AnÃ¤sthesie und Intensivmedizin Finsterwalde   \\n \\n \\n AnÃ¤sthesie und Intensivmedizin Herzberg   \\n \\n \\n Chirurgie   \\n \\n \\n  Chirurgie Elsterwerda   \\n \\n \\n Chirurgie Finsterwalde   \\n \\n \\n Chirurgie Herzberg   \\n \\n \\n GynÃ¤kologie und Geburtshilfe   \\n \\n \\n GynÃ¤kologie Elsterwerda   \\n \\n \\n GynÃ¤kologie Finsterwalde   \\n \\n \\n GynÃ¤kologie / Geburtshilfe Herzberg   \\n \\n \\n GynÃ¤kologie   \\n \\n \\n UrogynÃ¤kologie   \\n \\n \\n Geburtshilfe   \\n \\n \\n Innere Medizin   \\n \\n \\n Innere Medizin Elsterwerda   \\n \\n \\n Innere Medizin Finsterwalde   \\n \\n \\n Innere Medizin Herzberg   \\n \\n \\n Endoskopiezentrum SÃ¼dbrandenburg   \\n \\n \\n PÃ¤diatrie   \\n \\n   \\n PÃ¤diatrie Herzberg   \\n \\n \\n Kinderschutzgruppe   \\n \\n \\n Psychiatrie   \\n \\n \\n Psychiatrie Finsterwalde   \\n \\n   \\n Psychiatrie Elsterwerda   \\n \\n \\n Radiologie   \\n \\n \\n Radiologie Elsterwerda   \\n \\n \\n Radiologie Finsterwalde   \\n \\n \\n Radiologie Herzberg   \\n \\n \\n Pflege   \\n \\n   \\n Pflege Elsterwerda   \\n \\n \\n Pflege Finsterwalde   \\n \\n \\n Pflege Herzberg   \\n \\n \\n Funktionsdiagnostik   \\n \\n \\n Funktionsdiagnostik Elsterwerda   \\n \\n \\n Funktionsdiagnostik Finsterwalde   \\n \\n \\n Funktionsdiagnostik Herzberg   \\n \\n \\n Physiotherapie   \\n \\n   \\n Physiotherapie Elsterwerda   \\n \\n \\n Physiotherapie Finsterwalde   \\n \\n \\n Physiotherapie Herzberg   \\n \\n   \\n Patienteninformation   \\n \\n   \\n Notaufnahme   \\n \\n   \\n Ambulante Aufnahme   \\n \\n   \\n StationÃ¤re Aufnahme   \\n \\n   \\n Service im Krankenhaus   \\n \\n   \\n Patientenbeauftragte   \\n \\n   \\n PatientenfÃ¼rsprecherin   \\n \\n \\n Entlassungsmanagement   \\n \\n   \\n Aktuelles   \\n \\n   \\n Pressemitteilungen   \\n \\n   \\n Pressemitteilungen (Archiv)   \\n \\n   \\n Newsletter/Publikationen/ Flyer   \\n \\n   \\n Veranstaltungen   \\n \\n   \\n Babygalerie   \\n \\n \\n \\n \\n \\n \\n \\n \\n \\n \\n Fachbereiche \\n \\n Elbe-Elster Klinikum Fachbereiche Chirurgie Chirurgie Finsterwalde \\n \\n \\n \\n \\n \\n \\n \\n \\n \\n \\n \\n \\n \\n \\n \\n \\n \\n\\t\\t\\t\\t\\t\\t\\t\\t\\t\\t\\t\\t\\t\\t\\t\\t\\t\\t\\t\\t\\tChirurgie Finsterwalde\\t\\t\\t\\t\\t\\t\\t\\t\\t\\t\\t\\t\\t\\t\\t\\t\\t\\t \\n \\n \\n \\n \\n \\n MUDr. Ivor Dropco\\n Chefarzt der Abteilung fÃ¼r Chirurgie  Facharzt fÃ¼r Chirurgie und Viszeralchirurgie Zusatzbezeichnung Spezielle Viszeralchirurgie \\n \\n \\n \\n \\n \\n \\n \\n Kontakt\\n\\t\\t\\t\\t\\t\\t \\n \\n \\n \\n \\n Sekretariat T. 03531 503-117 F. 03531 503-210 Diese E-Mail-Adresse ist vor Spambots geschÃ¼tzt! Zur Anzeige muss JavaScript eingeschaltet sein! \\n FC1, Haus 9, Ebene 2 FC1a, Haus 12, Ebene 2 45 Betten \\n \\n \\n \\n \\n \\n \\n \\n Besuchszeiten\\n\\t\\t\\t\\t\\t\\t \\n \\n \\n \\n \\n Kernbesuchszeit 14.00â\\x80\\x9319.00 Uhr, auÃ\\x9ferhalb nach Absprache \\n \\n \\n \\n \\n \\n \\n \\n Zertifikate\\n\\t\\t\\t\\t\\t\\t \\n \\n \\n \\n \\n \\n \\n \\n \\n \\n \\n \\n \\n weitere Standorte\\n\\t\\t\\t\\t\\t\\t \\n \\n \\n \\n \\n Chirurgie Elsterwerda \\n Chirurgie Finsterwalde \\n Chirurgie Herzberg \\n \\n \\n \\n \\n \\n \\n \\n Ambulante Angebote\\n\\t\\t\\t\\t\\t\\t \\n \\n \\n \\n \\n Notfallambulanz Rund um die Uhr, T. 03531 503-148 \\n FÃ¼r alle folgenden Angebote benÃ¶tigen Sie einen Termin. Diesen erhalten Sie tÃ¤glich von 9.30 - 17.30 Uhr unter 03531 503-142 oder -308 \\n \\n Einweisungs- und Beratungssprechstunde \\n OP-Sprechstunde \\n HÃ¼ft- und Kniesprechstunde \\n Schultersprechstunde \\n Anmeldungssprechstunde fÃ¼r ambulantes Operieren \\n Krampfadersprechstunde \\n Spezielle FuÃ\\x9fchirurgie \\n Proktologische Sprechstunde \\n \\n \\n \\n \\n \\n \\n \\n \\n Leistungsspektrum\\n\\t\\t\\t\\t\\t\\t \\n \\n \\n \\n \\n Die Abteilung fÃ¼hrt alle Eingriffe auf dem Gebiet der Allgemeinchirurgie, Visceralchirurgie sowie Unfallchirurgie/ OrthopÃ¤die durch, soweit dies zum Aufgabenbereich eines Hauses der Grundversorgung gehÃ¶rt. Sie arbeitet in zwei Stationen, wobei eine fÃ¼r Kurzlieger und ambulant operativ behandelte Patienten genutzt wird. FÃ¼r schwere FÃ¤lle stehen sechs Betten auf der interdisziplinÃ¤r genutzten Intensivstation zur VerfÃ¼gung. Im Rahmen der Allgemein- und Visceralchirurgie werden, wenn mÃ¶glich, laparoskopische Operationsverfahren eingesetzt. Gleiches gilt in der Unfallchirurgie/OrthopÃ¤die fÃ¼r arthroskopische Operationen. \\n Unfallchirurgisch/OrthopÃ¤disch werden alle Verfahren der Knochbruchbehandlung, sei es durch NÃ¤gel, Schrauben oder Platten, angewandt. Der gelenkprothetische Ersatz groÃ\\x9fer und auch kleiner Gelenke wird betrieben. \\n Die SchilddrÃ¼senchirurgie ist in umfangreichen Rahmen etabliert. Gleiches gilt fÃ¼r die Behandlung von Krampfaderleiden. \\n Im Bereich der Chirurgie werden gynÃ¤kologogische Patientinnen mit betreut, die im Rahmen eines Konsiliarvertrages durch niedergelassene GynÃ¤kologen behandelt werden. Patienten mit Erkrankungen der weiblichen Brust werden von der Abteilung im Rahmen des Lausitzer Brustzentrums ebenfalls versorgt. Das Leistungsspektrum ist sehr umfangreich: Neben der Diagnostik und Therapie von Brustkrebserkrankungen gehÃ¶ren auch die AbklÃ¤rung unklarer, teilweise gutartiger Befunde sowie plastische Operationen dazu. \\n Mit der Zertifizierung durch die Deutsche Herniengesellschaft (DHG) werden alle Hernienoperationen im Krankenhaus Finsterwalde einer QualitÃ¤tskontrolle unterzogen. \\n \\n \\n \\n \\n \\n \\n \\n Lausitzer Brustzentrum\\n\\t\\t\\t\\t\\t\\t \\n \\n \\n \\n \\n Die Elbe-Elster Klinikum GmbH ist Mitglied im Lausitzer Brustzentrum. Dieser Zusammenschluss aus dem Lausitzer Seenland Klinikum Hoyerswerda, dem Malteserkrankenhaus St. Johannes Kamenz, der Kreiskrankenhaus WeiÃ\\x9fwasser gGmbH sowie dem Elbe-Elster Klinikum hat das Ziel, den an den Krankenhausstandorten der Partner behandelten Brustkrebs-Patientinnen eine hochwertige und qualitÃ¤tsgesicherte Therapie nach einem einheitlichen evidenzbasierten Behandlungsmuster zur VerfÃ¼gung zu stellen. \\n Patienten mit Erkrankungen der weiblichen Brust werden im Elbe-Elster Klinikum im Krankenhaus Finsterwalde betreut. Dieses Versorgungsangebot ist in Form eines senologischen Arbeitskreises organisiert und in der Fachabteilung fÃ¼r Chirurgie im Krankenhaus Finsterwalde angesiedelt.Â\\xa0 Das Leistungsspektrum ist sehr umfangreich: Neben der Diagnostik und Therapie von Brustkrebserkrankungen gehÃ¶ren auch die AbklÃ¤rung unklarer, teilweise gutartiger Befunde sowie plastische Operationen dazu. \\n Der Arbeitskreis handelt entsprechend der medizinischen S3-Leitlinien der Deutschen Krebsgesellschaft und der Arbeitsgemeinschaft der gynÃ¤kologischen Onkologie. Seine Arbeitsweise ist den Tumorboards zertifizierter Brustzentren gleichzusetzen. Er versammelt GynÃ¤kologen, Chirurgen, Onkologen, Pathologen, Radiologen, Nuklearmediziner, Strahlentherapeuten, Psychologen und spezialisierte PflegekrÃ¤fte sowohl aus dem stationÃ¤ren als auch aus ambulanten Bereichen, die die Therapieoptionen der behandelten Patientinnen gemeinsam festlegen. Das gemeinsam erarbeitete Protokoll enthÃ¤lt eine Therapieempfehlung und wird den behandelnden Medizinern im Anschluss zugesandt. \\n Ziel aller BemÃ¼hungen ist es immer, den Patientinnen mit Brusterkrankungen eine Diagnose und die Behandlung auf dem aktuellen Stand der Medizin anzubieten. Ebenso wichtig ist die menschliche Seite der Betreuung: Neben den fachlichen Kenntnissen sind EinfÃ¼hlsamkeit und ganzheitliche Betrachtung entscheidende Grundpfeiler der Arbeit des senologischen Teams um das Krankenhaus Finsterwalde. \\n Leistungsangebote fÃ¼r Brustkrebs-Patienten \\n Diagnostik \\n \\n Mammografie \\n hochauflÃ¶sender Ultraschall \\n Computertomografie \\n Magnetresonanztomografie \\n Stanzbiopsie unter LokalanÃ¤sthesie \\n WÃ¤chterlymphknotenbiopsie in der AchselhÃ¶hle \\n Pathologie \\n \\n Therapie \\n \\n Mammachirurgie: ablativ sowie gesamtes Spektrum der Brusterhaltung, der primÃ¤ren und sekundÃ¤ren Rekonstruktion nach Entfernung der Brust und der plastischen Brustchirurgie \\n Chemo- und Strahlentherapie \\n \\n wÃ¤hrend des und nach dem Krankenhausaufenthalt \\n \\n Betreuung durch spezialisierte PflegekrÃ¤fte \\n physiotherapeutische Anleitung und Ã\\x9cbung \\n UnterstÃ¼tzung durch den Sozialdienst des Hauses \\n psychoonkologische Betreuung und Begleitung \\n ErnÃ¤hrungsberatung \\n \\n Vorteile fÃ¼r unsere Patientinnen \\n \\n ganzheitliche Diagnostik und Therapie durch ein interdisziplinÃ¤res Team aus GynÃ¤kologen, Chirurgen, Onkologen, Pathologen, Radiologen, Nuklearmedizinern, Strahlentherapeuten, Psychologen und spezialisierten PflegekrÃ¤ften \\n Einbeziehung der Patientinnen in die Therapieentscheidung und Zusammenarbeit mit Patientinnen-Initiativen und Selbsthilfegruppen \\n wohnortnahe Versorgung auf hohem medizinischem Niveau \\n Zweitmeinung in Diagnostik und Therapie. \\n \\n \\n \\n \\n \\n \\n \\n \\n Ã\\x84rztliches Personal\\n\\t\\t\\t\\t\\t\\t \\n \\n \\n \\n \\n Chefarzt MUDr. Ivor Dropco  Facharzt fÃ¼r Chirurgie und Viszeralchirurgie, Zusatzbezeichnung Spezielle Viszeralchirurgie Leitender Oberarzt Dipl.-Med. Thomas Vogel Facharzt fÃ¼r Chirurgie Fachkunde Rettungsdienst Zusatzbezeichnung Notfallmedizin Oberarzt Ingo Beyer Facharzt fÃ¼r Chirurgie und Viszeralchirurgie Zusatzbezeichnung Spezielle Viszeralchirurgie Zusatzbezeichnung Proktologie Oberarzt Dr. med. Volker Papstein Facharzt fÃ¼r Chirurgie Zusatzbezeichnung Proktologie Zusatzbezeichnung Notfallmedizin Oberarzt Lutz JÃ¤ckel Facharzt fÃ¼r Chirurgie, OrthopÃ¤die und Unfallchirurgie Schwerpunktbezeichnung Unfallchirurgie Zusatzbezeichnung Notfallmedizin eine FachÃ¤rztin sieben AssistenzÃ¤rzte \\n \\n \\n \\n \\n \\n \\n \\n WeiterbildungsermÃ¤chtigungen\\n\\t\\t\\t\\t\\t\\t \\n \\n \\n \\n \\n \\n 36 Monate Viszeralchirurgie \\n 24 Monate Allgemeinchirugie \\n 24 Monate Basisbefugnis Chirurgie \\n 12 Monate Proktologie \\n \\n \\n \\n   \\n \\n \\n \\n   \\n   \\n \\n \\n \\n \\n \\n \\n \\n \\n \\n \\n \\n Fachbereiche \\n \\n Elbe-Elster Klinikum Fachbereiche Chirurgie Chirurgie Finsterwalde \\n \\n \\n \\n \\n \\n \\n \\n \\n \\n \\n \\n KONTAKT \\n Elbe-Elster Klinikum GmbH Kirchhainer StraÃ\\x9fe 38a 03238 Finsterwalde T. +49 3531 503-0 F. +49 3531 503-105 info@elbe-elster-klinikum.de www.elbe-elster-klinikum.de \\n \\n \\n \\n \\n Information \\n \\n \\n \\n \\n Datenschutz   \\n \\n \\n Impressum   \\n \\n \\n \\n \\n \\n \\n \\n \\n \\n \\n \\n\\t\\t\\t\\t\\t\\t\\tCopyright Â© 2016 â\\x80\\x93  Elbe-Elster Klinikum GmbH . \\n Wenn Sie Inhalte dieser Seite verwenden, verlinken oder anderweitig nutzen mÃ¶chten, dann fragen Sie uns. Gern stellen wir Pressematerial in hoher QualitÃ¤t zur VerfÃ¼gung.'"
      ]
     },
     "execution_count": 8,
     "metadata": {},
     "output_type": "execute_result"
    }
   ],
   "source": [
    "train_df.text.head(1).values[0]"
   ]
  },
  {
   "cell_type": "code",
   "execution_count": 9,
   "id": "a0f846a5",
   "metadata": {},
   "outputs": [],
   "source": [
    "# removing extra space and special characters\n",
    "import re\n",
    "def filter_text(text):\n",
    "    text = text.lower()\n",
    "    text = re.sub(r'\\s+', ' ', text)\n",
    "    text = re.sub(r'[^\\w\\s]','', text)\n",
    "    return text"
   ]
  },
  {
   "cell_type": "code",
   "execution_count": 10,
   "id": "854f51a9",
   "metadata": {},
   "outputs": [],
   "source": [
    "train_df['proper_text'] = train_df['text'].apply(filter_text)\n",
    "test_df['proper_text'] = test_df['text'].apply(filter_text)"
   ]
  },
  {
   "cell_type": "code",
   "execution_count": 11,
   "id": "18614375",
   "metadata": {
    "scrolled": true
   },
   "outputs": [
    {
     "data": {
      "text/plain": [
       "8780"
      ]
     },
     "execution_count": 11,
     "metadata": {},
     "output_type": "execute_result"
    }
   ],
   "source": [
    "len(train_df['proper_text'].head(1).values[0])"
   ]
  },
  {
   "cell_type": "markdown",
   "id": "e5c0c7da",
   "metadata": {},
   "source": [
    "Now the data looks more clean . After searching the internet the language seems to be german. So remving all the stopwords"
   ]
  },
  {
   "cell_type": "code",
   "execution_count": 12,
   "id": "95ddb437",
   "metadata": {},
   "outputs": [
    {
     "name": "stderr",
     "output_type": "stream",
     "text": [
      "[nltk_data] Error loading stopwords: <urlopen error [Errno 11001]\n",
      "[nltk_data]     getaddrinfo failed>\n",
      "[nltk_data] Error loading punkt: <urlopen error [Errno 11001]\n",
      "[nltk_data]     getaddrinfo failed>\n"
     ]
    },
    {
     "data": {
      "text/plain": [
       "False"
      ]
     },
     "execution_count": 12,
     "metadata": {},
     "output_type": "execute_result"
    }
   ],
   "source": [
    "import nltk \n",
    "from nltk.corpus import stopwords\n",
    "import string \n",
    "\n",
    "nltk.download('stopwords')\n",
    "nltk.download('punkt')"
   ]
  },
  {
   "cell_type": "markdown",
   "id": "485ae093",
   "metadata": {},
   "source": [
    "Language present in text is german"
   ]
  },
  {
   "cell_type": "code",
   "execution_count": 13,
   "id": "2b7ed849",
   "metadata": {},
   "outputs": [],
   "source": [
    "stop_words = set(stopwords.words('german'))\n",
    "def remove_stopwords(text):\n",
    "    words = nltk.word_tokenize(text,language='german')\n",
    "    filtered_words = [word for word in words if word.lower() not in stop_words and word not in string.punctuation]\n",
    "    return ' '. join(filtered_words)\n"
   ]
  },
  {
   "cell_type": "code",
   "execution_count": 14,
   "id": "6b903d41",
   "metadata": {},
   "outputs": [],
   "source": [
    "train_df['filtered_text'] = train_df.proper_text.apply(remove_stopwords)\n",
    "test_df['filtered_text'] = test_df.proper_text.apply(remove_stopwords)"
   ]
  },
  {
   "cell_type": "code",
   "execution_count": 15,
   "id": "b58b32bf",
   "metadata": {
    "scrolled": true
   },
   "outputs": [
    {
     "data": {
      "text/plain": [
       "7728"
      ]
     },
     "execution_count": 15,
     "metadata": {},
     "output_type": "execute_result"
    }
   ],
   "source": [
    "len(train_df.filtered_text.head(1).values[0]) # we have remove a lot of stopwords from our text"
   ]
  },
  {
   "cell_type": "code",
   "execution_count": 16,
   "id": "85f64f35",
   "metadata": {},
   "outputs": [],
   "source": [
    "# performing lemmatization\n",
    "from nltk.stem import WordNetLemmatizer\n",
    "\n",
    "def lemmatize_text(text):\n",
    "    lemmatizer = WordNetLemmatizer()\n",
    "    words = nltk.word_tokenize(text,language='german')\n",
    "    lemmatize_text = [lemmatizer.lemmatize(word.lower()) for word in words]\n",
    "    return ' '.join(lemmatize_text)\n"
   ]
  },
  {
   "cell_type": "code",
   "execution_count": 17,
   "id": "c136e2fa",
   "metadata": {},
   "outputs": [],
   "source": [
    "train_df['lemmatized_text'] = train_df.filtered_text.apply(lemmatize_text)\n",
    "test_df['lemmatized_text'] = test_df.filtered_text.apply(lemmatize_text)"
   ]
  },
  {
   "cell_type": "code",
   "execution_count": 18,
   "id": "b5c68f5e",
   "metadata": {},
   "outputs": [
    {
     "data": {
      "text/plain": [
       "7727"
      ]
     },
     "execution_count": 18,
     "metadata": {},
     "output_type": "execute_result"
    }
   ],
   "source": [
    "len(train_df.lemmatized_text.head(1).values[0])"
   ]
  },
  {
   "cell_type": "code",
   "execution_count": 19,
   "id": "e1373776",
   "metadata": {},
   "outputs": [
    {
     "data": {
      "text/html": [
       "<div>\n",
       "<style scoped>\n",
       "    .dataframe tbody tr th:only-of-type {\n",
       "        vertical-align: middle;\n",
       "    }\n",
       "\n",
       "    .dataframe tbody tr th {\n",
       "        vertical-align: top;\n",
       "    }\n",
       "\n",
       "    .dataframe thead th {\n",
       "        text-align: right;\n",
       "    }\n",
       "</style>\n",
       "<table border=\"1\" class=\"dataframe\">\n",
       "  <thead>\n",
       "    <tr style=\"text-align: right;\">\n",
       "      <th></th>\n",
       "      <th>keyword</th>\n",
       "      <th>tumor_type</th>\n",
       "    </tr>\n",
       "  </thead>\n",
       "  <tbody>\n",
       "    <tr>\n",
       "      <th>0</th>\n",
       "      <td>senologische</td>\n",
       "      <td>Brust</td>\n",
       "    </tr>\n",
       "    <tr>\n",
       "      <th>1</th>\n",
       "      <td>brustzentrum</td>\n",
       "      <td>Brust</td>\n",
       "    </tr>\n",
       "    <tr>\n",
       "      <th>2</th>\n",
       "      <td>breast</td>\n",
       "      <td>Brust</td>\n",
       "    </tr>\n",
       "    <tr>\n",
       "      <th>3</th>\n",
       "      <td>thorax</td>\n",
       "      <td>Brust</td>\n",
       "    </tr>\n",
       "    <tr>\n",
       "      <th>4</th>\n",
       "      <td>thorakale</td>\n",
       "      <td>Brust</td>\n",
       "    </tr>\n",
       "  </tbody>\n",
       "</table>\n",
       "</div>"
      ],
      "text/plain": [
       "        keyword tumor_type\n",
       "0  senologische      Brust\n",
       "1  brustzentrum      Brust\n",
       "2        breast      Brust\n",
       "3        thorax      Brust\n",
       "4     thorakale      Brust"
      ]
     },
     "execution_count": 19,
     "metadata": {},
     "output_type": "execute_result"
    }
   ],
   "source": [
    "keywords_to_tumor_df.head()"
   ]
  },
  {
   "cell_type": "code",
   "execution_count": 20,
   "id": "e83d0922",
   "metadata": {},
   "outputs": [],
   "source": [
    "# finding keywords in text\n",
    "def keywords_in_text(text, keywords_df):\n",
    "    found_keywords = []\n",
    "    for _, row in keywords_df.iterrows():\n",
    "        keyword = row['keyword']\n",
    "        if keyword.lower() in text.lower():\n",
    "            found_keywords.append(keyword)\n",
    "    return found_keywords\n",
    "# mapping tumor type according to the keyowrds\n",
    "def map_tumor_type(text, keyword_df):\n",
    "    if isinstance(text, list):\n",
    "        text = ' '.join(text)\n",
    "    \n",
    "    keyword_dict = dict(zip(keyword_df['keyword'], keyword_df['tumor_type']))\n",
    "    for keyword, tumor_type in keyword_dict.items():\n",
    "        if keyword.lower() in text.lower():\n",
    "            return tumor_type\n",
    "    return None\n",
    "\n",
    "\n"
   ]
  },
  {
   "cell_type": "code",
   "execution_count": 21,
   "id": "94609845",
   "metadata": {},
   "outputs": [],
   "source": [
    "train_df['keywords'] = train_df.lemmatized_text.apply(lambda x: keywords_in_text(x, keywords_to_tumor_df))\n",
    "test_df['keywords'] = test_df.lemmatized_text.apply(lambda x: keywords_in_text(x,keywords_to_tumor_df))\n"
   ]
  },
  {
   "cell_type": "code",
   "execution_count": 22,
   "id": "ef48c58d",
   "metadata": {},
   "outputs": [],
   "source": [
    "train_df['tumor_type'] = train_df.keywords.apply(lambda x: map_tumor_type(x, keywords_to_tumor_df))\n",
    "test_df['tumor_type'] = test_df.keywords.apply(lambda x: map_tumor_type(x, keywords_to_tumor_df))"
   ]
  },
  {
   "cell_type": "code",
   "execution_count": 23,
   "id": "8406fdb1",
   "metadata": {},
   "outputs": [],
   "source": [
    "# Remove square brackets and extra spaces\n",
    "train_df['keywords'] = train_df['keywords'].apply(lambda x: str(x).strip('[]').replace(\"'\", \"\").replace('\"', '').strip())\n",
    "test_df['keywords'] = test_df['keywords'].apply(lambda x: str(x).strip('[]').replace(\"'\", \"\").replace('\"', '').strip())\n"
   ]
  },
  {
   "cell_type": "code",
   "execution_count": 24,
   "id": "0f583345",
   "metadata": {},
   "outputs": [
    {
     "data": {
      "text/html": [
       "<div>\n",
       "<style scoped>\n",
       "    .dataframe tbody tr th:only-of-type {\n",
       "        vertical-align: middle;\n",
       "    }\n",
       "\n",
       "    .dataframe tbody tr th {\n",
       "        vertical-align: top;\n",
       "    }\n",
       "\n",
       "    .dataframe thead th {\n",
       "        text-align: right;\n",
       "    }\n",
       "</style>\n",
       "<table border=\"1\" class=\"dataframe\">\n",
       "  <thead>\n",
       "    <tr style=\"text-align: right;\">\n",
       "      <th></th>\n",
       "      <th>doc_id</th>\n",
       "      <th>text</th>\n",
       "      <th>proper_text</th>\n",
       "      <th>filtered_text</th>\n",
       "      <th>lemmatized_text</th>\n",
       "      <th>keywords</th>\n",
       "      <th>tumor_type</th>\n",
       "    </tr>\n",
       "  </thead>\n",
       "  <tbody>\n",
       "    <tr>\n",
       "      <th>0</th>\n",
       "      <td>0</td>\n",
       "      <td>BauchspeicheldrÃ¼se | Klinik fÃ¼r Allgemein-, ...</td>\n",
       "      <td>bauchspeicheldrã¼se  klinik fã¼r allgemein vis...</td>\n",
       "      <td>bauchspeicheldrã¼se klinik fã¼r allgemein visz...</td>\n",
       "      <td>bauchspeicheldrã¼se klinik fã¼r allgemein visz...</td>\n",
       "      <td>viszeralchirurgie, galle, leber, magen, pankre...</td>\n",
       "      <td>Darm</td>\n",
       "    </tr>\n",
       "    <tr>\n",
       "      <th>1</th>\n",
       "      <td>2</td>\n",
       "      <td>Chirurgie der BauchspeicheldrÃ¼se (Pankreaschi...</td>\n",
       "      <td>chirurgie der bauchspeicheldrã¼se pankreaschir...</td>\n",
       "      <td>chirurgie bauchspeicheldrã¼se pankreaschirurgi...</td>\n",
       "      <td>chirurgie bauchspeicheldrã¼se pankreaschirurgi...</td>\n",
       "      <td>thorax, viszeralchirurgie, viszeralchirurgisch...</td>\n",
       "      <td>Brust</td>\n",
       "    </tr>\n",
       "    <tr>\n",
       "      <th>2</th>\n",
       "      <td>7</td>\n",
       "      <td>Brustzentrum Reutlingen: Behandlungsverfahren ...</td>\n",
       "      <td>brustzentrum reutlingen behandlungsverfahren  ...</td>\n",
       "      <td>brustzentrum reutlingen behandlungsverfahren k...</td>\n",
       "      <td>brustzentrum reutlingen behandlungsverfahren k...</td>\n",
       "      <td>brustzentrum, endokrine, mamma, pankreas, pros...</td>\n",
       "      <td>Brust</td>\n",
       "    </tr>\n",
       "    <tr>\n",
       "      <th>3</th>\n",
       "      <td>15</td>\n",
       "      <td>Leistungsspektrum: Sankt Marien-Hospital Buer ...</td>\n",
       "      <td>leistungsspektrum sankt marienhospital buer gm...</td>\n",
       "      <td>leistungsspektrum sankt marienhospital buer gm...</td>\n",
       "      <td>leistungsspektrum sankt marienhospital buer gm...</td>\n",
       "      <td>brustzentrum, rektum, viszeralchirurgie, visze...</td>\n",
       "      <td>Brust</td>\n",
       "    </tr>\n",
       "    <tr>\n",
       "      <th>4</th>\n",
       "      <td>16</td>\n",
       "      <td>Leistungsspektrum: Sankt Marien-Hospital Buer ...</td>\n",
       "      <td>leistungsspektrum sankt marienhospital buer gm...</td>\n",
       "      <td>leistungsspektrum sankt marienhospital buer gm...</td>\n",
       "      <td>leistungsspektrum sankt marienhospital buer gm...</td>\n",
       "      <td>brustzentrum, rektum, viszeralchirurgie, visze...</td>\n",
       "      <td>Brust</td>\n",
       "    </tr>\n",
       "  </tbody>\n",
       "</table>\n",
       "</div>"
      ],
      "text/plain": [
       "   doc_id                                               text  \\\n",
       "0       0  BauchspeicheldrÃ¼se | Klinik fÃ¼r Allgemein-, ...   \n",
       "1       2  Chirurgie der BauchspeicheldrÃ¼se (Pankreaschi...   \n",
       "2       7  Brustzentrum Reutlingen: Behandlungsverfahren ...   \n",
       "3      15  Leistungsspektrum: Sankt Marien-Hospital Buer ...   \n",
       "4      16  Leistungsspektrum: Sankt Marien-Hospital Buer ...   \n",
       "\n",
       "                                         proper_text  \\\n",
       "0  bauchspeicheldrã¼se  klinik fã¼r allgemein vis...   \n",
       "1  chirurgie der bauchspeicheldrã¼se pankreaschir...   \n",
       "2  brustzentrum reutlingen behandlungsverfahren  ...   \n",
       "3  leistungsspektrum sankt marienhospital buer gm...   \n",
       "4  leistungsspektrum sankt marienhospital buer gm...   \n",
       "\n",
       "                                       filtered_text  \\\n",
       "0  bauchspeicheldrã¼se klinik fã¼r allgemein visz...   \n",
       "1  chirurgie bauchspeicheldrã¼se pankreaschirurgi...   \n",
       "2  brustzentrum reutlingen behandlungsverfahren k...   \n",
       "3  leistungsspektrum sankt marienhospital buer gm...   \n",
       "4  leistungsspektrum sankt marienhospital buer gm...   \n",
       "\n",
       "                                     lemmatized_text  \\\n",
       "0  bauchspeicheldrã¼se klinik fã¼r allgemein visz...   \n",
       "1  chirurgie bauchspeicheldrã¼se pankreaschirurgi...   \n",
       "2  brustzentrum reutlingen behandlungsverfahren k...   \n",
       "3  leistungsspektrum sankt marienhospital buer gm...   \n",
       "4  leistungsspektrum sankt marienhospital buer gm...   \n",
       "\n",
       "                                            keywords tumor_type  \n",
       "0  viszeralchirurgie, galle, leber, magen, pankre...       Darm  \n",
       "1  thorax, viszeralchirurgie, viszeralchirurgisch...      Brust  \n",
       "2  brustzentrum, endokrine, mamma, pankreas, pros...      Brust  \n",
       "3  brustzentrum, rektum, viszeralchirurgie, visze...      Brust  \n",
       "4  brustzentrum, rektum, viszeralchirurgie, visze...      Brust  "
      ]
     },
     "execution_count": 24,
     "metadata": {},
     "output_type": "execute_result"
    }
   ],
   "source": [
    "test_df.drop(columns='url',inplace=True)\n",
    "test_df.head()"
   ]
  },
  {
   "cell_type": "code",
   "execution_count": 25,
   "id": "cee902c4",
   "metadata": {},
   "outputs": [
    {
     "data": {
      "text/html": [
       "<div>\n",
       "<style scoped>\n",
       "    .dataframe tbody tr th:only-of-type {\n",
       "        vertical-align: middle;\n",
       "    }\n",
       "\n",
       "    .dataframe tbody tr th {\n",
       "        vertical-align: top;\n",
       "    }\n",
       "\n",
       "    .dataframe thead th {\n",
       "        text-align: right;\n",
       "    }\n",
       "</style>\n",
       "<table border=\"1\" class=\"dataframe\">\n",
       "  <thead>\n",
       "    <tr style=\"text-align: right;\">\n",
       "      <th></th>\n",
       "      <th>doc_id</th>\n",
       "      <th>label</th>\n",
       "      <th>text</th>\n",
       "      <th>proper_text</th>\n",
       "      <th>filtered_text</th>\n",
       "      <th>lemmatized_text</th>\n",
       "      <th>keywords</th>\n",
       "      <th>tumor_type</th>\n",
       "    </tr>\n",
       "  </thead>\n",
       "  <tbody>\n",
       "    <tr>\n",
       "      <th>0</th>\n",
       "      <td>1</td>\n",
       "      <td>1</td>\n",
       "      <td>Elbe-Elster Klinikum - Chirurgie Finsterwalde ...</td>\n",
       "      <td>elbeelster klinikum  chirurgie finsterwalde su...</td>\n",
       "      <td>elbeelster klinikum chirurgie finsterwalde suc...</td>\n",
       "      <td>elbeelster klinikum chirurgie finsterwalde suc...</td>\n",
       "      <td>senologische, brustzentrum, viszeralchirurgie,...</td>\n",
       "      <td>Brust</td>\n",
       "    </tr>\n",
       "    <tr>\n",
       "      <th>1</th>\n",
       "      <td>3</td>\n",
       "      <td>3</td>\n",
       "      <td>Onkologisches Zentrum - Klinikum Bayreuth \\n \\...</td>\n",
       "      <td>onkologisches zentrum  klinikum bayreuth aktue...</td>\n",
       "      <td>onkologisches zentrum klinikum bayreuth aktuel...</td>\n",
       "      <td>onkologisches zentrum klinikum bayreuth aktuel...</td>\n",
       "      <td>brustzentrum, thorax, rektum, viszeralchirurgi...</td>\n",
       "      <td>Brust</td>\n",
       "    </tr>\n",
       "    <tr>\n",
       "      <th>2</th>\n",
       "      <td>4</td>\n",
       "      <td>1</td>\n",
       "      <td>Zentrum - SozialpÃ¤diatrisches Zentrum - StÃ¤d...</td>\n",
       "      <td>zentrum  sozialpãdiatrisches zentrum  stãdtisc...</td>\n",
       "      <td>zentrum sozialpãdiatrisches zentrum stãdtische...</td>\n",
       "      <td>zentrum sozialpãdiatrisches zentrum stãdtische...</td>\n",
       "      <td>urologische, schwerpunkt</td>\n",
       "      <td>Urologische</td>\n",
       "    </tr>\n",
       "    <tr>\n",
       "      <th>3</th>\n",
       "      <td>5</td>\n",
       "      <td>1</td>\n",
       "      <td>Leistung - Spezielle UnterstÃ¼tzung bei der An...</td>\n",
       "      <td>leistung  spezielle unterstã¼tzung bei der anm...</td>\n",
       "      <td>leistung spezielle unterstã¼tzung anmeldung ge...</td>\n",
       "      <td>leistung spezielle unterstã¼tzung anmeldung ge...</td>\n",
       "      <td></td>\n",
       "      <td>None</td>\n",
       "    </tr>\n",
       "    <tr>\n",
       "      <th>4</th>\n",
       "      <td>6</td>\n",
       "      <td>3</td>\n",
       "      <td>Zuweiser - Tumorkonferenzen - Tumorkonferenz G...</td>\n",
       "      <td>zuweiser  tumorkonferenzen  tumorkonferenz gas...</td>\n",
       "      <td>zuweiser tumorkonferenzen tumorkonferenz gastr...</td>\n",
       "      <td>zuweiser tumorkonferenzen tumorkonferenz gastr...</td>\n",
       "      <td>viszeralchirurgie, gastroenterologie, gastroin...</td>\n",
       "      <td>Darm</td>\n",
       "    </tr>\n",
       "  </tbody>\n",
       "</table>\n",
       "</div>"
      ],
      "text/plain": [
       "   doc_id  label                                               text  \\\n",
       "0       1      1  Elbe-Elster Klinikum - Chirurgie Finsterwalde ...   \n",
       "1       3      3  Onkologisches Zentrum - Klinikum Bayreuth \\n \\...   \n",
       "2       4      1  Zentrum - SozialpÃ¤diatrisches Zentrum - StÃ¤d...   \n",
       "3       5      1  Leistung - Spezielle UnterstÃ¼tzung bei der An...   \n",
       "4       6      3  Zuweiser - Tumorkonferenzen - Tumorkonferenz G...   \n",
       "\n",
       "                                         proper_text  \\\n",
       "0  elbeelster klinikum  chirurgie finsterwalde su...   \n",
       "1  onkologisches zentrum  klinikum bayreuth aktue...   \n",
       "2  zentrum  sozialpãdiatrisches zentrum  stãdtisc...   \n",
       "3  leistung  spezielle unterstã¼tzung bei der anm...   \n",
       "4  zuweiser  tumorkonferenzen  tumorkonferenz gas...   \n",
       "\n",
       "                                       filtered_text  \\\n",
       "0  elbeelster klinikum chirurgie finsterwalde suc...   \n",
       "1  onkologisches zentrum klinikum bayreuth aktuel...   \n",
       "2  zentrum sozialpãdiatrisches zentrum stãdtische...   \n",
       "3  leistung spezielle unterstã¼tzung anmeldung ge...   \n",
       "4  zuweiser tumorkonferenzen tumorkonferenz gastr...   \n",
       "\n",
       "                                     lemmatized_text  \\\n",
       "0  elbeelster klinikum chirurgie finsterwalde suc...   \n",
       "1  onkologisches zentrum klinikum bayreuth aktuel...   \n",
       "2  zentrum sozialpãdiatrisches zentrum stãdtische...   \n",
       "3  leistung spezielle unterstã¼tzung anmeldung ge...   \n",
       "4  zuweiser tumorkonferenzen tumorkonferenz gastr...   \n",
       "\n",
       "                                            keywords   tumor_type  \n",
       "0  senologische, brustzentrum, viszeralchirurgie,...        Brust  \n",
       "1  brustzentrum, thorax, rektum, viszeralchirurgi...        Brust  \n",
       "2                           urologische, schwerpunkt  Urologische  \n",
       "3                                                            None  \n",
       "4  viszeralchirurgie, gastroenterologie, gastroin...         Darm  "
      ]
     },
     "execution_count": 25,
     "metadata": {},
     "output_type": "execute_result"
    }
   ],
   "source": [
    "train_df.head()"
   ]
  },
  {
   "cell_type": "code",
   "execution_count": null,
   "id": "8ba9a970",
   "metadata": {},
   "outputs": [],
   "source": []
  },
  {
   "cell_type": "code",
   "execution_count": 26,
   "id": "f38c4d51",
   "metadata": {},
   "outputs": [],
   "source": [
    "from sklearn.feature_extraction.text import CountVectorizer, TfidfVectorizer\n",
    "bow = CountVectorizer()\n",
    "x_bow = bow.fit_transform(train_df['lemmatized_text'])\n"
   ]
  },
  {
   "cell_type": "code",
   "execution_count": 27,
   "id": "1310e2cf",
   "metadata": {},
   "outputs": [],
   "source": [
    "tfidf = TfidfVectorizer()\n",
    "x_tfidf = tfidf.fit_transform(train_df['lemmatized_text'])\n"
   ]
  },
  {
   "cell_type": "code",
   "execution_count": 28,
   "id": "8c90da09",
   "metadata": {},
   "outputs": [],
   "source": [
    "from sklearn.model_selection import train_test_split\n",
    "X1 = x_tfidf\n",
    "y = train_df['label'].values\n",
    "X_train, X_test, y_train, y_test = train_test_split(X1, y, test_size=0.2, random_state=22)"
   ]
  },
  {
   "cell_type": "markdown",
   "id": "e4d81ea0",
   "metadata": {},
   "source": [
    "# Random Forest"
   ]
  },
  {
   "cell_type": "code",
   "execution_count": 29,
   "id": "5d04587c",
   "metadata": {
    "scrolled": true
   },
   "outputs": [
    {
     "name": "stdout",
     "output_type": "stream",
     "text": [
      "TFIDF Accuracy: 0.7\n",
      "Confusion Matrix:\n",
      " [[ 0  0  0]\n",
      " [ 5 14  1]\n",
      " [ 0  0  0]]\n"
     ]
    }
   ],
   "source": [
    "from sklearn.ensemble import RandomForestClassifier\n",
    "from sklearn.metrics import accuracy_score, confusion_matrix\n",
    "\n",
    "clf = RandomForestClassifier(n_estimators=100, random_state=42)\n",
    "clf.fit(X_train, y_train)\n",
    "\n",
    "y_pred = clf.predict(X_test)\n",
    "acc = accuracy_score(y_pred, y_test)\n",
    "\n",
    "print(\"TFIDF Accuracy:\", acc)\n",
    "print(\"Confusion Matrix:\\n\",confusion_matrix(y_pred, y_test))"
   ]
  },
  {
   "cell_type": "code",
   "execution_count": 30,
   "id": "1815cc70",
   "metadata": {},
   "outputs": [],
   "source": [
    "X2 = x_bow\n",
    "y=train_df['label'].values\n",
    "\n",
    "X_train, X_test, y_train, y_test = train_test_split(X2, y, test_size=0.2, random_state=22)\n"
   ]
  },
  {
   "cell_type": "code",
   "execution_count": 31,
   "id": "72137cca",
   "metadata": {},
   "outputs": [
    {
     "name": "stdout",
     "output_type": "stream",
     "text": [
      "BOW Accuracy:  0.75\n",
      "Confusion Matrix:\n",
      " [[ 1  0  0]\n",
      " [ 4 14  1]\n",
      " [ 0  0  0]]\n"
     ]
    }
   ],
   "source": [
    "clf.fit(X_train, y_train)\n",
    "y_pred = clf.predict(X_test)\n",
    "acc = accuracy_score(y_pred, y_test)\n",
    "print(\"BOW Accuracy: \", acc)\n",
    "print(\"Confusion Matrix:\\n\",confusion_matrix(y_pred, y_test))"
   ]
  },
  {
   "cell_type": "code",
   "execution_count": 32,
   "id": "ecc005bd",
   "metadata": {},
   "outputs": [],
   "source": [
    "# considering BOW"
   ]
  },
  {
   "cell_type": "code",
   "execution_count": 33,
   "id": "1c2fa719",
   "metadata": {},
   "outputs": [
    {
     "name": "stdout",
     "output_type": "stream",
     "text": [
      "Best Parameters:  {'max_depth': 20, 'max_features': 'sqrt', 'min_samples_leaf': 1, 'min_samples_split': 2, 'n_estimators': 500}\n"
     ]
    }
   ],
   "source": [
    "# tunning\n",
    "from sklearn.model_selection import GridSearchCV\n",
    "param_grid = {\n",
    "    'n_estimators': [100, 300, 500],  # Number of trees\n",
    "    'max_depth': [10, 20, 30],  # Tree depth\n",
    "    'min_samples_split': [2, 5, 10],  # Minimum samples to split\n",
    "    'min_samples_leaf': [1, 2, 5],  # Minimum samples per leaf\n",
    "    'max_features': ['sqrt', 'log2']  # Feature selection\n",
    "}\n",
    "\n",
    "grid_search = GridSearchCV(clf, param_grid, cv=5, scoring='accuracy', n_jobs=-1)\n",
    "grid_search.fit(X_train, y_train)\n",
    "print(\"Best Parameters: \", grid_search.best_params_)"
   ]
  },
  {
   "cell_type": "code",
   "execution_count": 34,
   "id": "c6ba36e9",
   "metadata": {},
   "outputs": [
    {
     "name": "stdout",
     "output_type": "stream",
     "text": [
      "Optimized Random Forest Accuracy: 0.7500\n"
     ]
    }
   ],
   "source": [
    "best_clf = RandomForestClassifier(**grid_search.best_params_, random_state=42)\n",
    "best_clf.fit(X_train, y_train)\n",
    "\n",
    "# Evaluate\n",
    "y_pred = best_clf.predict(X_test)\n",
    "accuracy = accuracy_score(y_test, y_pred)\n",
    "print(f\"Optimized Random Forest Accuracy: {accuracy:.4f}\")"
   ]
  },
  {
   "cell_type": "markdown",
   "id": "b3965f7f",
   "metadata": {},
   "source": [
    "There is no change in accuracy so we keep our accuracy at 75"
   ]
  },
  {
   "cell_type": "markdown",
   "id": "0692c9f4",
   "metadata": {},
   "source": [
    "### Predicting labels for test data"
   ]
  },
  {
   "cell_type": "code",
   "execution_count": 35,
   "id": "94f18211",
   "metadata": {},
   "outputs": [
    {
     "data": {
      "text/html": [
       "<div>\n",
       "<style scoped>\n",
       "    .dataframe tbody tr th:only-of-type {\n",
       "        vertical-align: middle;\n",
       "    }\n",
       "\n",
       "    .dataframe tbody tr th {\n",
       "        vertical-align: top;\n",
       "    }\n",
       "\n",
       "    .dataframe thead th {\n",
       "        text-align: right;\n",
       "    }\n",
       "</style>\n",
       "<table border=\"1\" class=\"dataframe\">\n",
       "  <thead>\n",
       "    <tr style=\"text-align: right;\">\n",
       "      <th></th>\n",
       "      <th>doc_id</th>\n",
       "      <th>text</th>\n",
       "      <th>proper_text</th>\n",
       "      <th>filtered_text</th>\n",
       "      <th>lemmatized_text</th>\n",
       "      <th>keywords</th>\n",
       "      <th>tumor_type</th>\n",
       "    </tr>\n",
       "  </thead>\n",
       "  <tbody>\n",
       "    <tr>\n",
       "      <th>0</th>\n",
       "      <td>0</td>\n",
       "      <td>BauchspeicheldrÃ¼se | Klinik fÃ¼r Allgemein-, ...</td>\n",
       "      <td>bauchspeicheldrã¼se  klinik fã¼r allgemein vis...</td>\n",
       "      <td>bauchspeicheldrã¼se klinik fã¼r allgemein visz...</td>\n",
       "      <td>bauchspeicheldrã¼se klinik fã¼r allgemein visz...</td>\n",
       "      <td>viszeralchirurgie, galle, leber, magen, pankre...</td>\n",
       "      <td>Darm</td>\n",
       "    </tr>\n",
       "    <tr>\n",
       "      <th>1</th>\n",
       "      <td>2</td>\n",
       "      <td>Chirurgie der BauchspeicheldrÃ¼se (Pankreaschi...</td>\n",
       "      <td>chirurgie der bauchspeicheldrã¼se pankreaschir...</td>\n",
       "      <td>chirurgie bauchspeicheldrã¼se pankreaschirurgi...</td>\n",
       "      <td>chirurgie bauchspeicheldrã¼se pankreaschirurgi...</td>\n",
       "      <td>thorax, viszeralchirurgie, viszeralchirurgisch...</td>\n",
       "      <td>Brust</td>\n",
       "    </tr>\n",
       "    <tr>\n",
       "      <th>2</th>\n",
       "      <td>7</td>\n",
       "      <td>Brustzentrum Reutlingen: Behandlungsverfahren ...</td>\n",
       "      <td>brustzentrum reutlingen behandlungsverfahren  ...</td>\n",
       "      <td>brustzentrum reutlingen behandlungsverfahren k...</td>\n",
       "      <td>brustzentrum reutlingen behandlungsverfahren k...</td>\n",
       "      <td>brustzentrum, endokrine, mamma, pankreas, pros...</td>\n",
       "      <td>Brust</td>\n",
       "    </tr>\n",
       "    <tr>\n",
       "      <th>3</th>\n",
       "      <td>15</td>\n",
       "      <td>Leistungsspektrum: Sankt Marien-Hospital Buer ...</td>\n",
       "      <td>leistungsspektrum sankt marienhospital buer gm...</td>\n",
       "      <td>leistungsspektrum sankt marienhospital buer gm...</td>\n",
       "      <td>leistungsspektrum sankt marienhospital buer gm...</td>\n",
       "      <td>brustzentrum, rektum, viszeralchirurgie, visze...</td>\n",
       "      <td>Brust</td>\n",
       "    </tr>\n",
       "    <tr>\n",
       "      <th>4</th>\n",
       "      <td>16</td>\n",
       "      <td>Leistungsspektrum: Sankt Marien-Hospital Buer ...</td>\n",
       "      <td>leistungsspektrum sankt marienhospital buer gm...</td>\n",
       "      <td>leistungsspektrum sankt marienhospital buer gm...</td>\n",
       "      <td>leistungsspektrum sankt marienhospital buer gm...</td>\n",
       "      <td>brustzentrum, rektum, viszeralchirurgie, visze...</td>\n",
       "      <td>Brust</td>\n",
       "    </tr>\n",
       "  </tbody>\n",
       "</table>\n",
       "</div>"
      ],
      "text/plain": [
       "   doc_id                                               text  \\\n",
       "0       0  BauchspeicheldrÃ¼se | Klinik fÃ¼r Allgemein-, ...   \n",
       "1       2  Chirurgie der BauchspeicheldrÃ¼se (Pankreaschi...   \n",
       "2       7  Brustzentrum Reutlingen: Behandlungsverfahren ...   \n",
       "3      15  Leistungsspektrum: Sankt Marien-Hospital Buer ...   \n",
       "4      16  Leistungsspektrum: Sankt Marien-Hospital Buer ...   \n",
       "\n",
       "                                         proper_text  \\\n",
       "0  bauchspeicheldrã¼se  klinik fã¼r allgemein vis...   \n",
       "1  chirurgie der bauchspeicheldrã¼se pankreaschir...   \n",
       "2  brustzentrum reutlingen behandlungsverfahren  ...   \n",
       "3  leistungsspektrum sankt marienhospital buer gm...   \n",
       "4  leistungsspektrum sankt marienhospital buer gm...   \n",
       "\n",
       "                                       filtered_text  \\\n",
       "0  bauchspeicheldrã¼se klinik fã¼r allgemein visz...   \n",
       "1  chirurgie bauchspeicheldrã¼se pankreaschirurgi...   \n",
       "2  brustzentrum reutlingen behandlungsverfahren k...   \n",
       "3  leistungsspektrum sankt marienhospital buer gm...   \n",
       "4  leistungsspektrum sankt marienhospital buer gm...   \n",
       "\n",
       "                                     lemmatized_text  \\\n",
       "0  bauchspeicheldrã¼se klinik fã¼r allgemein visz...   \n",
       "1  chirurgie bauchspeicheldrã¼se pankreaschirurgi...   \n",
       "2  brustzentrum reutlingen behandlungsverfahren k...   \n",
       "3  leistungsspektrum sankt marienhospital buer gm...   \n",
       "4  leistungsspektrum sankt marienhospital buer gm...   \n",
       "\n",
       "                                            keywords tumor_type  \n",
       "0  viszeralchirurgie, galle, leber, magen, pankre...       Darm  \n",
       "1  thorax, viszeralchirurgie, viszeralchirurgisch...      Brust  \n",
       "2  brustzentrum, endokrine, mamma, pankreas, pros...      Brust  \n",
       "3  brustzentrum, rektum, viszeralchirurgie, visze...      Brust  \n",
       "4  brustzentrum, rektum, viszeralchirurgie, visze...      Brust  "
      ]
     },
     "execution_count": 35,
     "metadata": {},
     "output_type": "execute_result"
    }
   ],
   "source": [
    "# test data \n",
    "test_df.head()"
   ]
  },
  {
   "cell_type": "code",
   "execution_count": 36,
   "id": "cd17566a",
   "metadata": {},
   "outputs": [
    {
     "data": {
      "text/html": [
       "<div>\n",
       "<style scoped>\n",
       "    .dataframe tbody tr th:only-of-type {\n",
       "        vertical-align: middle;\n",
       "    }\n",
       "\n",
       "    .dataframe tbody tr th {\n",
       "        vertical-align: top;\n",
       "    }\n",
       "\n",
       "    .dataframe thead th {\n",
       "        text-align: right;\n",
       "    }\n",
       "</style>\n",
       "<table border=\"1\" class=\"dataframe\">\n",
       "  <thead>\n",
       "    <tr style=\"text-align: right;\">\n",
       "      <th></th>\n",
       "      <th>doc_id</th>\n",
       "      <th>text</th>\n",
       "      <th>proper_text</th>\n",
       "      <th>filtered_text</th>\n",
       "      <th>lemmatized_text</th>\n",
       "      <th>keywords</th>\n",
       "      <th>tumor_type</th>\n",
       "      <th>Predicted_label</th>\n",
       "    </tr>\n",
       "  </thead>\n",
       "  <tbody>\n",
       "    <tr>\n",
       "      <th>0</th>\n",
       "      <td>0</td>\n",
       "      <td>BauchspeicheldrÃ¼se | Klinik fÃ¼r Allgemein-, ...</td>\n",
       "      <td>bauchspeicheldrã¼se  klinik fã¼r allgemein vis...</td>\n",
       "      <td>bauchspeicheldrã¼se klinik fã¼r allgemein visz...</td>\n",
       "      <td>bauchspeicheldrã¼se klinik fã¼r allgemein visz...</td>\n",
       "      <td>viszeralchirurgie, galle, leber, magen, pankre...</td>\n",
       "      <td>Darm</td>\n",
       "      <td>2</td>\n",
       "    </tr>\n",
       "    <tr>\n",
       "      <th>1</th>\n",
       "      <td>2</td>\n",
       "      <td>Chirurgie der BauchspeicheldrÃ¼se (Pankreaschi...</td>\n",
       "      <td>chirurgie der bauchspeicheldrã¼se pankreaschir...</td>\n",
       "      <td>chirurgie bauchspeicheldrã¼se pankreaschirurgi...</td>\n",
       "      <td>chirurgie bauchspeicheldrã¼se pankreaschirurgi...</td>\n",
       "      <td>thorax, viszeralchirurgie, viszeralchirurgisch...</td>\n",
       "      <td>Brust</td>\n",
       "      <td>2</td>\n",
       "    </tr>\n",
       "    <tr>\n",
       "      <th>2</th>\n",
       "      <td>7</td>\n",
       "      <td>Brustzentrum Reutlingen: Behandlungsverfahren ...</td>\n",
       "      <td>brustzentrum reutlingen behandlungsverfahren  ...</td>\n",
       "      <td>brustzentrum reutlingen behandlungsverfahren k...</td>\n",
       "      <td>brustzentrum reutlingen behandlungsverfahren k...</td>\n",
       "      <td>brustzentrum, endokrine, mamma, pankreas, pros...</td>\n",
       "      <td>Brust</td>\n",
       "      <td>1</td>\n",
       "    </tr>\n",
       "    <tr>\n",
       "      <th>3</th>\n",
       "      <td>15</td>\n",
       "      <td>Leistungsspektrum: Sankt Marien-Hospital Buer ...</td>\n",
       "      <td>leistungsspektrum sankt marienhospital buer gm...</td>\n",
       "      <td>leistungsspektrum sankt marienhospital buer gm...</td>\n",
       "      <td>leistungsspektrum sankt marienhospital buer gm...</td>\n",
       "      <td>brustzentrum, rektum, viszeralchirurgie, visze...</td>\n",
       "      <td>Brust</td>\n",
       "      <td>2</td>\n",
       "    </tr>\n",
       "    <tr>\n",
       "      <th>4</th>\n",
       "      <td>16</td>\n",
       "      <td>Leistungsspektrum: Sankt Marien-Hospital Buer ...</td>\n",
       "      <td>leistungsspektrum sankt marienhospital buer gm...</td>\n",
       "      <td>leistungsspektrum sankt marienhospital buer gm...</td>\n",
       "      <td>leistungsspektrum sankt marienhospital buer gm...</td>\n",
       "      <td>brustzentrum, rektum, viszeralchirurgie, visze...</td>\n",
       "      <td>Brust</td>\n",
       "      <td>2</td>\n",
       "    </tr>\n",
       "  </tbody>\n",
       "</table>\n",
       "</div>"
      ],
      "text/plain": [
       "   doc_id                                               text  \\\n",
       "0       0  BauchspeicheldrÃ¼se | Klinik fÃ¼r Allgemein-, ...   \n",
       "1       2  Chirurgie der BauchspeicheldrÃ¼se (Pankreaschi...   \n",
       "2       7  Brustzentrum Reutlingen: Behandlungsverfahren ...   \n",
       "3      15  Leistungsspektrum: Sankt Marien-Hospital Buer ...   \n",
       "4      16  Leistungsspektrum: Sankt Marien-Hospital Buer ...   \n",
       "\n",
       "                                         proper_text  \\\n",
       "0  bauchspeicheldrã¼se  klinik fã¼r allgemein vis...   \n",
       "1  chirurgie der bauchspeicheldrã¼se pankreaschir...   \n",
       "2  brustzentrum reutlingen behandlungsverfahren  ...   \n",
       "3  leistungsspektrum sankt marienhospital buer gm...   \n",
       "4  leistungsspektrum sankt marienhospital buer gm...   \n",
       "\n",
       "                                       filtered_text  \\\n",
       "0  bauchspeicheldrã¼se klinik fã¼r allgemein visz...   \n",
       "1  chirurgie bauchspeicheldrã¼se pankreaschirurgi...   \n",
       "2  brustzentrum reutlingen behandlungsverfahren k...   \n",
       "3  leistungsspektrum sankt marienhospital buer gm...   \n",
       "4  leistungsspektrum sankt marienhospital buer gm...   \n",
       "\n",
       "                                     lemmatized_text  \\\n",
       "0  bauchspeicheldrã¼se klinik fã¼r allgemein visz...   \n",
       "1  chirurgie bauchspeicheldrã¼se pankreaschirurgi...   \n",
       "2  brustzentrum reutlingen behandlungsverfahren k...   \n",
       "3  leistungsspektrum sankt marienhospital buer gm...   \n",
       "4  leistungsspektrum sankt marienhospital buer gm...   \n",
       "\n",
       "                                            keywords tumor_type  \\\n",
       "0  viszeralchirurgie, galle, leber, magen, pankre...       Darm   \n",
       "1  thorax, viszeralchirurgie, viszeralchirurgisch...      Brust   \n",
       "2  brustzentrum, endokrine, mamma, pankreas, pros...      Brust   \n",
       "3  brustzentrum, rektum, viszeralchirurgie, visze...      Brust   \n",
       "4  brustzentrum, rektum, viszeralchirurgie, visze...      Brust   \n",
       "\n",
       "   Predicted_label  \n",
       "0                2  \n",
       "1                2  \n",
       "2                1  \n",
       "3                2  \n",
       "4                2  "
      ]
     },
     "execution_count": 36,
     "metadata": {},
     "output_type": "execute_result"
    }
   ],
   "source": [
    "X_test_bow = bow.transform(test_df['lemmatized_text'])\n",
    "y_test_pred = clf.predict(X_test_bow)\n",
    "test_df['Predicted_label'] = y_test_pred\n",
    "test_df.head()"
   ]
  },
  {
   "cell_type": "code",
   "execution_count": 41,
   "id": "ac9c157a",
   "metadata": {},
   "outputs": [
    {
     "data": {
      "image/png": "[encoded data removed]",
      "text/plain": [
       "<Figure size 640x480 with 1 Axes>"
      ]
     },
     "metadata": {},
     "output_type": "display_data"
    },
    {
     "data": {
      "image/png": "[encoded data removed]",
      "text/plain": [
       "<Figure size 640x480 with 1 Axes>"
      ]
     },
     "metadata": {},
     "output_type": "display_data"
    }
   ],
   "source": [
    "sns.countplot(x='Predicted_label', hue='Predicted_label', data=test_df)\n",
    "plt.title(\"Predicted Label\")\n",
    "plt.show()\n",
    "\n",
    "sns.countplot(x='label', hue='label', data=train_df)\n",
    "plt.title(\"label count\")\n",
    "plt.show()"
   ]
  },
  {
   "cell_type": "markdown",
   "id": "016855aa",
   "metadata": {},
   "source": [
    "# Practicalities"
   ]
  },
  {
   "cell_type": "markdown",
   "id": "d8e664de",
   "metadata": {},
   "source": [
    "#### How did you decide to handle this amount of data?\n",
    "- After looking carefully at the data , it seemed that the data can be converged into a single table. All the text from html files, keywords and tumor type in train and test data .\n"
   ]
  },
  {
   "cell_type": "markdown",
   "id": "3d38930e",
   "metadata": {},
   "source": [
    "#### How did you decide to do feature engineering? \n",
    "- For feature engineering, using NLP is the best way as there is text data and NLP handles text data very well. Firstly, removed all the unwanted space and characters. As the language used in text is german, so removed all the stopwords of german lanugage. Then done lemmatization of text."
   ]
  },
  {
   "cell_type": "markdown",
   "id": "4e9b8523",
   "metadata": {},
   "source": [
    "####  How did you decide which models to try (if you decide to train any models)? \n",
    "- After trying logistic regression, SVM, Decision tree, Random Forest, Neural Network, Random Forest has performed very well with accuracy of 75 with BOW and 70 with TFIDF"
   ]
  },
  {
   "cell_type": "markdown",
   "id": "80f07735",
   "metadata": {},
   "source": [
    "#### How did you perform validation of your model?\n",
    "- For validation , splitted the train data by 80/20 percentage for train/test. Then by training the model, used test_df data for predicting the requored labels"
   ]
  },
  {
   "cell_type": "markdown",
   "id": "4abe78ef",
   "metadata": {},
   "source": [
    "#### What metrics did you measure?"
   ]
  },
  {
   "cell_type": "markdown",
   "id": "5dd009f5",
   "metadata": {},
   "source": [
    "- Used accuracy score and confusion matrix\n",
    "- BOW Accuracy:  0.75\n",
    "- Confusion Matrix:\n",
    " [[ 1  0  0]\n",
    " [ 4 14  1]\n",
    " [ 0  0  0]]"
   ]
  },
  {
   "cell_type": "markdown",
   "id": "15aaf0b3",
   "metadata": {},
   "source": [
    "#### How do you expect your model to perform on test data (in terms of your metrics)?\n",
    "- The model has perform quite good on the test data with accuracy of 75% "
   ]
  },
  {
   "cell_type": "markdown",
   "id": "5eaaed62",
   "metadata": {},
   "source": [
    "#### How fast will your algorithm performs and how could you improve its performance if you would have more time?\n",
    "- Algorithm is very fast and predicts the output with accuracy. To improve the model performance more data is required as the available is small to capture the patterns and trends. Also fine tunning the model will increase the performance"
   ]
  },
  {
   "cell_type": "markdown",
   "id": "4cbb9f3a",
   "metadata": {},
   "source": [
    "#### How do you think you would be able to improve your algorithm if you would have more data? What potential issues do you see with your algorithm?\n",
    "- Yes, i would be able to improve the model accuracy with more data. The potential issues with the algorithm is lack of data, as we had only limited data to capture the main trends of data which lead to slight underfitting. With more data the algorithm can easily perform better."
   ]
  },
  {
   "cell_type": "markdown",
   "id": "e0789627",
   "metadata": {},
   "source": [
    "# Conclusion"
   ]
  },
  {
   "cell_type": "markdown",
   "id": "a25795dc",
   "metadata": {},
   "source": [
    "\n",
    "#### **Bag of Words (BoW) Model:**\n",
    "- **Accuracy:** **75%**  \n",
    "- **Confusion Matrix:**\n",
    "[[ 1 0 0] [ 4 14 1] [ 0 0 0]]"
   ]
  },
  {
   "cell_type": "markdown",
   "id": "2aa17dc7",
   "metadata": {},
   "source": [
    "- The model performs **well on class 2**, but **misclassifies some class 1 samples into class 2**.\n",
    "- **Class 3 has zero predictions**, indicating an issue with class imbalance.\n",
    "\n",
    "#### **TF-IDF Model:**\n",
    "\n",
    "- **Accuracy:** **70%**  \n",
    "- **Confusion Matrix:**\n",
    "[[ 0 0 0] [ 5 14 1] [ 0 0 0]]"
   ]
  },
  {
   "cell_type": "markdown",
   "id": "7732ff78",
   "metadata": {},
   "source": [
    "- Similar performance to BoW, suggesting that TF-IDF **does not significantly improve classification**.\n",
    "- **Class 3 remains unpredicted**, indicating potential data distribution issues.\n",
    "\n",
    "\n"
   ]
  },
  {
   "cell_type": "code",
   "execution_count": null,
   "id": "a79d7bbd",
   "metadata": {},
   "outputs": [],
   "source": []
  }
 ],
 "metadata": {
  "kernelspec": {
   "display_name": "Python 3 (ipykernel)",
   "language": "python",
   "name": "python3"
  },
  "language_info": {
   "codemirror_mode": {
    "name": "ipython",
    "version": 3
   },
   "file_extension": ".py",
   "mimetype": "text/x-python",
   "name": "python",
   "nbconvert_exporter": "python",
   "pygments_lexer": "ipython3",
   "version": "3.11.4"
  }
 },
 "nbformat": 4,
 "nbformat_minor": 5
}
